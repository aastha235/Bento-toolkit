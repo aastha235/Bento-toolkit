{
 "cells": [
  {
   "cell_type": "code",
   "execution_count": 1,
   "id": "08c525a8",
   "metadata": {
    "papermill": {
     "duration": 0.020043,
     "end_time": "2021-11-02T18:20:45.634708",
     "exception": false,
     "start_time": "2021-11-02T18:20:45.614665",
     "status": "completed"
    },
    "tags": [
     "injected-parameters"
    ]
   },
   "outputs": [],
   "source": [
    "# Parameters\n",
    "DATE = 20211102\n",
    "N_TRIALS = 50\n",
    "NN_MAX_EPOCHS = 100\n",
    "CNN_MAX_EPOCHS = 200\n",
    "SCORING_METRIC = \"f1_macro\""
   ]
  },
  {
   "cell_type": "markdown",
   "id": "a8018dcf-a726-41a4-999b-3f12afc9012f",
   "metadata": {
    "papermill": {
     "duration": 0.015792,
     "end_time": "2021-11-02T18:20:45.667249",
     "exception": false,
     "start_time": "2021-11-02T18:20:45.651457",
     "status": "completed"
    },
    "tags": []
   },
   "source": [
    "# Multilabel Model Training"
   ]
  },
  {
   "cell_type": "code",
   "execution_count": 2,
   "id": "296cc85a-14fa-402a-bdfe-e6343d8e1094",
   "metadata": {
    "papermill": {
     "duration": 24.949462,
     "end_time": "2021-11-02T18:21:10.632654",
     "exception": false,
     "start_time": "2021-11-02T18:20:45.683192",
     "status": "completed"
    },
    "tags": []
   },
   "outputs": [],
   "source": [
    "import os\n",
    "import pickle\n",
    "\n",
    "import bento\n",
    "import matplotlib.pyplot as plt\n",
    "import numpy as np\n",
    "import optuna\n",
    "import pandas as pd\n",
    "import torch\n",
    "import torch.nn as nn\n",
    "import torch.nn.functional as F\n",
    "from optuna.integration import SkorchPruningCallback\n",
    "from sklearn.metrics import f1_score\n",
    "from sklearn.model_selection import cross_val_score, train_test_split\n",
    "from sklearn.multiclass import OneVsRestClassifier\n",
    "from sklearn.pipeline import Pipeline, make_pipeline\n",
    "from sklearn.preprocessing import LabelBinarizer, LabelEncoder, StandardScaler\n",
    "from sklearn.svm import SVC\n",
    "from skorch import NeuralNet, NeuralNetClassifier\n",
    "from skorch.callbacks import EarlyStopping, EpochScoring\n",
    "from xgboost import XGBRFClassifier"
   ]
  },
  {
   "cell_type": "code",
   "execution_count": 3,
   "id": "ff5301a4-9ee0-453e-80c7-3c2c0359a9d3",
   "metadata": {
    "papermill": {
     "duration": 0.023541,
     "end_time": "2021-11-02T18:21:10.673357",
     "exception": false,
     "start_time": "2021-11-02T18:21:10.649816",
     "status": "completed"
    },
    "tags": []
   },
   "outputs": [],
   "source": [
    "# Other general variables\n",
    "model_dir = f\"../../models/ml_multilabel_{DATE}\"\n",
    "\n",
    "# Make folder to store study and model\n",
    "if not os.path.isdir(model_dir):\n",
    "    os.makedirs(model_dir)"
   ]
  },
  {
   "cell_type": "markdown",
   "id": "a763f655",
   "metadata": {
    "papermill": {
     "duration": 0.015576,
     "end_time": "2021-11-02T18:21:10.705123",
     "exception": false,
     "start_time": "2021-11-02T18:21:10.689547",
     "status": "completed"
    },
    "tags": []
   },
   "source": [
    "## Cell x Feature Matrix"
   ]
  },
  {
   "cell_type": "code",
   "execution_count": 4,
   "id": "160a70a4-e438-4d4e-94de-b6e0f544028f",
   "metadata": {
    "papermill": {
     "duration": 12.671925,
     "end_time": "2021-11-02T18:21:23.393743",
     "exception": false,
     "start_time": "2021-11-02T18:21:10.721818",
     "status": "completed"
    },
    "tags": []
   },
   "outputs": [
    {
     "data": {
      "text/plain": [
       "(10000, 1)"
      ]
     },
     "execution_count": 4,
     "metadata": {},
     "output_type": "execute_result"
    }
   ],
   "source": [
    "data = bento.io.read_h5ad(\"../../data/locfish/locfish_eval_20211019.h5ad\")\n",
    "data.shape"
   ]
  },
  {
   "cell_type": "code",
   "execution_count": 5,
   "id": "c493d718",
   "metadata": {
    "papermill": {
     "duration": 0.029767,
     "end_time": "2021-11-02T18:21:23.441473",
     "exception": false,
     "start_time": "2021-11-02T18:21:23.411706",
     "status": "completed"
    },
    "tags": []
   },
   "outputs": [],
   "source": [
    "# List of features\n",
    "features = [\n",
    "    \"cell_inner_proximity\",\n",
    "    \"nucleus_inner_proximity\",\n",
    "    \"nucleus_outer_proximity\",\n",
    "    \"cell_inner_asymmetry\",\n",
    "    \"nucleus_inner_asymmetry\",\n",
    "    \"nucleus_outer_asymmetry\",\n",
    "    \"l_max\",\n",
    "    \"l_max_gradient\",\n",
    "    \"l_min_gradient\",\n",
    "    \"l_monotony\",\n",
    "    \"l_half_radius\",\n",
    "    \"point_dispersion\",\n",
    "    \"nucleus_dispersion\",\n",
    "]\n",
    "\n",
    "cell_by_feature = []\n",
    "for f in features:\n",
    "    cell_by_feature.append(data.to_df(f))\n",
    "cell_by_feature = (\n",
    "    pd.concat(cell_by_feature, axis=1).reset_index(drop=True).astype(float)\n",
    ")\n",
    "cell_by_feature.columns = features"
   ]
  },
  {
   "cell_type": "markdown",
   "id": "9898b654-a902-41cc-b2aa-59d8bea7e198",
   "metadata": {
    "papermill": {
     "duration": 0.016251,
     "end_time": "2021-11-02T18:21:23.473537",
     "exception": false,
     "start_time": "2021-11-02T18:21:23.457286",
     "status": "completed"
    },
    "tags": []
   },
   "source": [
    "## Prepare datasets"
   ]
  },
  {
   "cell_type": "code",
   "execution_count": 6,
   "id": "a29dbaa0-7d2e-4b64-9458-08f243a3daad",
   "metadata": {
    "papermill": {
     "duration": 0.020822,
     "end_time": "2021-11-02T18:21:23.510719",
     "exception": false,
     "start_time": "2021-11-02T18:21:23.489897",
     "status": "completed"
    },
    "tags": []
   },
   "outputs": [],
   "source": [
    "classes = [\"cell_edge\", \"cytoplasmic\", \"none\", \"nuclear\", \"nuclear_edge\"]"
   ]
  },
  {
   "cell_type": "markdown",
   "id": "cc0f0b2d-438b-47ed-97cf-a3d114480d98",
   "metadata": {
    "papermill": {
     "duration": 0.015812,
     "end_time": "2021-11-02T18:21:23.542773",
     "exception": false,
     "start_time": "2021-11-02T18:21:23.526961",
     "status": "completed"
    },
    "tags": []
   },
   "source": [
    "Split train/test features"
   ]
  },
  {
   "cell_type": "code",
   "execution_count": 7,
   "id": "a35da7aa-b7e8-4835-be22-f58fef7b6fb2",
   "metadata": {
    "papermill": {
     "duration": 0.136049,
     "end_time": "2021-11-02T18:21:23.695221",
     "exception": false,
     "start_time": "2021-11-02T18:21:23.559172",
     "status": "completed"
    },
    "tags": []
   },
   "outputs": [],
   "source": [
    "X = torch.FloatTensor(cell_by_feature.values)\n",
    "\n",
    "le = LabelBinarizer().fit(classes)\n",
    "y = le.transform(data.to_df(\"pattern\").values.flatten())\n",
    "y = torch.LongTensor(y)\n",
    "\n",
    "X_train, X_test, y_train, y_test = train_test_split(\n",
    "    X, y, train_size=0.8, random_state=22, stratify=y\n",
    ")"
   ]
  },
  {
   "cell_type": "markdown",
   "id": "60cf2298-bcfd-4b2c-a329-5c0de88efb92",
   "metadata": {
    "papermill": {
     "duration": 0.016047,
     "end_time": "2021-11-02T18:21:23.727654",
     "exception": false,
     "start_time": "2021-11-02T18:21:23.711607",
     "status": "completed"
    },
    "tags": []
   },
   "source": [
    "Split train/test image features"
   ]
  },
  {
   "cell_type": "raw",
   "id": "f5fc1731-969b-44ae-a4ca-7314e28ecdf5",
   "metadata": {
    "execution": {
     "iopub.execute_input": "2021-11-01T23:44:28.705352Z",
     "iopub.status.busy": "2021-11-01T23:44:28.704927Z",
     "iopub.status.idle": "2021-11-01T23:52:20.944737Z",
     "shell.execute_reply": "2021-11-01T23:52:20.944352Z",
     "shell.execute_reply.started": "2021-11-01T23:44:28.705333Z"
    },
    "papermill": {
     "duration": 0.015938,
     "end_time": "2021-11-02T18:21:23.759347",
     "exception": false,
     "start_time": "2021-11-02T18:21:23.743409",
     "status": "completed"
    },
    "tags": []
   },
   "source": [
    "\n",
    "bento.tl.rasterize_cells(data, 'data/locfish/eval_img/', label_layer='pattern')"
   ]
  },
  {
   "cell_type": "code",
   "execution_count": null,
   "id": "7cdd8965-68cb-4caa-8f72-b895319661bd",
   "metadata": {},
   "outputs": [],
   "source": []
  },
  {
   "cell_type": "code",
   "execution_count": 8,
   "id": "f2eba79a-e060-4533-8a3a-dabf890256f3",
   "metadata": {},
   "outputs": [
    {
     "name": "stdout",
     "output_type": "stream",
     "text": [
      "AnnData object with n_obs × n_vars = 10000 × 1\n",
      "    obs: 'cell_shape', 'nucleus_shape', 'batch', 'cell_radius'\n",
      "    uns: 'points'\n",
      "    layers: 'cell_inner_asymmetry', 'cell_inner_proximity', 'cell_outer_asymmetry', 'cell_outer_proximity', 'l_half_radius', 'l_max', 'l_max_gradient', 'l_min_gradient', 'l_monotony', 'nucleus_dispersion', 'nucleus_inner_asymmetry', 'nucleus_inner_proximity', 'nucleus_outer_asymmetry', 'nucleus_outer_proximity', 'pattern', 'point_dispersion', 'spliced', 'unspliced'\n",
      "obsm keys: KeysView(AxisArrays with keys: )\n",
      "obs keys: Index(['cell_shape', 'nucleus_shape', 'batch', 'cell_radius'], dtype='object')\n",
      "uns keys: dict_keys(['points'])\n"
     ]
    }
   ],
   "source": [
    "# Display the structure of the AnnData object\n",
    "print(data)\n",
    "\n",
    "# View keys available in `obsm`, which often holds spatial coordinates\n",
    "print(\"obsm keys:\", data.obsm.keys())\n",
    "\n",
    "# View keys available in `obs`, which often holds labels or cell metadata\n",
    "print(\"obs keys:\", data.obs.keys())\n",
    "\n",
    "# View unstructured data keys in `uns`, in case other metadata is stored there\n",
    "print(\"uns keys:\", data.uns.keys())\n"
   ]
  },
  {
   "cell_type": "code",
   "execution_count": 9,
   "id": "ceb869bb-d2bb-42e2-a077-9235e5cce25a",
   "metadata": {},
   "outputs": [
    {
     "name": "stdout",
     "output_type": "stream",
     "text": [
      "                 x           y  \\\n",
      "0        69.000000  274.000000   \n",
      "1        10.000000  224.000000   \n",
      "2         7.000000  172.000000   \n",
      "3       138.000000  239.000000   \n",
      "4       203.000000  190.000000   \n",
      "...            ...         ...   \n",
      "693289  159.453846  219.192167   \n",
      "693290   81.871120  126.448050   \n",
      "693291   16.504118   73.624290   \n",
      "693292  171.830562  141.796859   \n",
      "693293   74.100206   97.465173   \n",
      "\n",
      "                                                     cell gene    pattern  \\\n",
      "0       mRNAlevel_10-cell2D-moderate-w1_HelaKyoto_Gapd...    0  cell_edge   \n",
      "1       mRNAlevel_10-cell2D-moderate-w1_HelaKyoto_Gapd...    0  cell_edge   \n",
      "2       mRNAlevel_10-cell2D-moderate-w1_HelaKyoto_Gapd...    0  cell_edge   \n",
      "3       mRNAlevel_10-cell2D-moderate-w1_HelaKyoto_Gapd...    0  cell_edge   \n",
      "4       mRNAlevel_10-cell2D-moderate-w1_HelaKyoto_Gapd...    0  cell_edge   \n",
      "...                                                   ...  ...        ...   \n",
      "693289                                             4498-1    0       none   \n",
      "693290                                             4498-1    0       none   \n",
      "693291                                             4498-1    0       none   \n",
      "693292                                             4498-1    0       none   \n",
      "693293                                             4498-1    0       none   \n",
      "\n",
      "                                                  nucleus batch  \n",
      "0                                                    -1.0     0  \n",
      "1                                                    -1.0     0  \n",
      "2                                                    -1.0     0  \n",
      "3                                                    -1.0     0  \n",
      "4                                                    -1.0     0  \n",
      "...                                                   ...   ...  \n",
      "693289                                                 -1     1  \n",
      "693290  mRNAlevel_100-polarized-strong-w1_HelaKyoto_Ga...     1  \n",
      "693291                                                 -1     1  \n",
      "693292                                                 -1     1  \n",
      "693293  mRNAlevel_100-polarized-strong-w1_HelaKyoto_Ga...     1  \n",
      "\n",
      "[1522282 rows x 7 columns]\n"
     ]
    }
   ],
   "source": [
    "print(data.uns['points'])"
   ]
  },
  {
   "cell_type": "code",
   "execution_count": 10,
   "id": "14df4f7a-866e-47dd-a114-e1ee5e479bae",
   "metadata": {},
   "outputs": [],
   "source": [
    "# import numpy as np\n",
    "# import matplotlib.pyplot as plt\n",
    "# from scipy.spatial import cKDTree\n",
    "# import anndata  # Ensure anndata is installed\n",
    "# import os\n",
    "\n",
    "# # Load the data\n",
    "# data = anndata.read_h5ad(\"../../data/locfish/locfish_eval_20211019.h5ad\")\n",
    "# print(\"Data loaded successfully.\")\n",
    "\n",
    "# # Extract spatial coordinates from the first two columns of `data.uns['points']`\n",
    "# print(\"Extracting spatial coordinates...\")\n",
    "# spatial_coords = data.uns['points'].iloc[:, :2].to_numpy()\n",
    "# print(\"Spatial coordinates extracted:\", spatial_coords.shape)\n",
    "\n",
    "# # Use the 'pattern' column in `data.uns['points']` as the label\n",
    "# print(\"Extracting labels...\")\n",
    "# labels = data.uns['points']['pattern']\n",
    "# print(\"Labels extracted. Unique labels:\", labels.unique())\n",
    "\n",
    "# # Define output directory\n",
    "# output_dir = 'data/locfish/eval_img/'\n",
    "# os.makedirs(output_dir, exist_ok=True)  # Create directory if it doesn't exist\n",
    "# print(f\"Output directory set to: {output_dir}\")\n",
    "\n",
    "# # Define grid resolution and calculate bounds\n",
    "# resolution = 100  # Adjust based on desired output size\n",
    "# x_min, x_max = spatial_coords[:, 0].min(), spatial_coords[:, 0].max()\n",
    "# y_min, y_max = spatial_coords[:, 1].min(), spatial_coords[:, 1].max()\n",
    "# print(\"Grid bounds calculated:\")\n",
    "# print(f\"x_min: {x_min}, x_max: {x_max}, y_min: {y_min}, y_max: {y_max}\")\n",
    "\n",
    "# # Set up grid points for rasterization\n",
    "# x_grid = np.linspace(x_min, x_max, resolution)\n",
    "# y_grid = np.linspace(y_min, y_max, resolution)\n",
    "# grid_coords = np.array(np.meshgrid(x_grid, y_grid)).reshape(2, -1).T\n",
    "# tree = cKDTree(grid_coords)\n",
    "# print(f\"Grid set up with resolution {resolution}. Total grid points: {len(grid_coords)}\")\n",
    "\n",
    "# # Get unique labels and assign a numeric ID to each\n",
    "# unique_labels = {label: idx + 1 for idx, label in enumerate(set(labels))}\n",
    "# print(\"Unique labels assigned IDs:\", unique_labels)\n",
    "\n",
    "# # Rasterize for each unique label and save images\n",
    "# for label, label_id in unique_labels.items():\n",
    "#     print(f\"Rasterizing cells for label: {label} (ID: {label_id})\")\n",
    "#     # Initialize an empty raster grid for each label\n",
    "#     raster = np.zeros((resolution, resolution))\n",
    "\n",
    "#     # Loop through each cell and place it in the raster grid if it matches the current label\n",
    "#     for coord, cell_label in zip(spatial_coords, labels):\n",
    "#         if cell_label == label:\n",
    "#             dist, idx = tree.query(coord)\n",
    "#             x_idx, y_idx = np.unravel_index(idx, (resolution, resolution))\n",
    "#             raster[x_idx, y_idx] = label_id  # Assign the label ID to the grid cell\n",
    "\n",
    "#     # Plot and save the rasterized image for each label\n",
    "#     plt.imshow(raster, cmap='viridis')\n",
    "#     plt.colorbar(label='Cell Label')\n",
    "#     plt.title(f\"Rasterized Cell Data - Label: {label}\")\n",
    "#     image_path = os.path.join(output_dir, f'rasterized_cells_{label}.png')\n",
    "#     plt.savefig(image_path)\n",
    "#     plt.close()  # Close the figure to save memory\n",
    "#     print(f\"Image saved for label {label} at: {image_path}\")\n",
    "\n",
    "# print(\"All rasterized images saved to:\", output_dir)\n",
    "\n",
    "\n",
    "\n"
   ]
  },
  {
   "cell_type": "code",
   "execution_count": 11,
   "id": "f1f9e6b4-dd52-47e3-9f0a-b8311788b272",
   "metadata": {},
   "outputs": [
    {
     "name": "stdout",
     "output_type": "stream",
     "text": [
      "['__builtins__', '__cached__', '__doc__', '__file__', '__loader__', '__name__', '__package__', '__path__', '__spec__', '_colocation', '_composition', '_decomposition', '_flux', '_flux_enrichment', '_lp', '_neighborhoods', '_point_features', '_shape_features', 'analyze_points', 'analyze_shapes', 'coloc_quotient', 'colocation', 'comp_diff', 'decompose', 'fe', 'fe_fazal2019', 'fe_kegg', 'fe_xia2019', 'flux', 'fluxmap', 'gene_sets', 'list_point_features', 'list_shape_features', 'load_gene_sets', 'lp', 'lp_diff', 'lp_stats', 'obs_stats', 'register_point_feature', 'register_shape_feature', 'to_tensor']\n"
     ]
    }
   ],
   "source": [
    "print(dir(bento.tl))"
   ]
  },
  {
   "cell_type": "code",
   "execution_count": 12,
   "id": "b8e4d732-0fa3-4662-ad12-a471c4e75270",
   "metadata": {
    "papermill": {
     "duration": 36.721699,
     "end_time": "2021-11-02T18:22:00.497111",
     "exception": false,
     "start_time": "2021-11-02T18:21:23.775412",
     "status": "completed"
    },
    "tags": []
   },
   "outputs": [],
   "source": [
    "# from torchvision import datasets, transforms\n",
    "\n",
    "# dataset = datasets.ImageFolder(\n",
    "#     \"data/locfish/eval_img\",\n",
    "#     transform=transforms.Compose([transforms.Grayscale(), transforms.ToTensor()]),\n",
    "# )\n",
    "# X_img = np.array([x[0].numpy() for x in dataset])\n",
    "# y_img = np.array(dataset.targets)\n",
    "\n",
    "# le = LabelBinarizer().fit(dataset.targets)\n",
    "# y_img = le.transform(y_img)\n",
    "\n",
    "# X_img_train, X_img_test, y_img_train, y_img_test = train_test_split(\n",
    "#     X_img, y_img, train_size=0.8, random_state=22, stratify=y_img\n",
    "# )"
   ]
  },
  {
   "cell_type": "markdown",
   "id": "8b0a8855-b530-444b-b553-74fa55de32a0",
   "metadata": {
    "papermill": {
     "duration": 0.016359,
     "end_time": "2021-11-02T18:22:00.530913",
     "exception": false,
     "start_time": "2021-11-02T18:22:00.514554",
     "status": "completed"
    },
    "tags": []
   },
   "source": [
    "# Prepare nn architectures"
   ]
  },
  {
   "cell_type": "code",
   "execution_count": 13,
   "id": "7c0fadcc-aaf3-4f60-8b7c-9b02d894c9df",
   "metadata": {
    "papermill": {
     "duration": 0.023203,
     "end_time": "2021-11-02T18:22:00.570654",
     "exception": false,
     "start_time": "2021-11-02T18:22:00.547451",
     "status": "completed"
    },
    "tags": []
   },
   "outputs": [],
   "source": [
    "class FCModule(nn.Module):\n",
    "    def __init__(\n",
    "        self,\n",
    "        l0_size,\n",
    "        l1_size,\n",
    "    ):\n",
    "        super().__init__()\n",
    "        fc_layers = []\n",
    "        in_features = 13\n",
    "\n",
    "        # Hidden layers\n",
    "        for layer_size in [l0_size, l1_size]:\n",
    "            fc_layers.extend(\n",
    "                [\n",
    "                    nn.Linear(in_features, layer_size),\n",
    "                    nn.BatchNorm1d(layer_size),\n",
    "                    nn.Dropout(0.2),\n",
    "                    nn.ReLU(),\n",
    "                ]\n",
    "            )\n",
    "\n",
    "            in_features = layer_size\n",
    "\n",
    "        # Output layer\n",
    "        fc_layers.append(nn.Linear(in_features, 2))\n",
    "        self.model = nn.Sequential(*fc_layers)\n",
    "\n",
    "    def forward(self, x):\n",
    "        x = self.model(x.float())\n",
    "        x = F.softmax(x, dim=-1)\n",
    "        return x"
   ]
  },
  {
   "cell_type": "code",
   "execution_count": 14,
   "id": "4939fac5-32ad-468d-9a7b-6b21b92d2f6e",
   "metadata": {
    "papermill": {
     "duration": 0.025408,
     "end_time": "2021-11-02T18:22:00.612713",
     "exception": false,
     "start_time": "2021-11-02T18:22:00.587305",
     "status": "completed"
    },
    "tags": []
   },
   "outputs": [],
   "source": [
    "def get_conv_dim(in_size, padding, dilation, kernel_size, stride):\n",
    "    outsize = 1 + (in_size + 2 * padding - dilation * (kernel_size - 1) - 1) / stride\n",
    "    return int(outsize)\n",
    "\n",
    "\n",
    "class SpotsBinaryModule(nn.Module):\n",
    "    def __init__(\n",
    "        self,\n",
    "        n_conv_layers,\n",
    "        in_dim,\n",
    "        out_channels,\n",
    "        kernel_size,\n",
    "        f_units_l0,\n",
    "        f_units_l1,\n",
    "    ) -> None:\n",
    "        super().__init__()\n",
    "        conv_layers = []\n",
    "\n",
    "        in_channels = 1\n",
    "        in_dim = in_dim\n",
    "\n",
    "        # Stack (convolutions + batchnorm + activation) + maxpool\n",
    "        for i in range(n_conv_layers):\n",
    "            conv_layers.extend(\n",
    "                [\n",
    "                    nn.Conv2d(\n",
    "                        in_channels=in_channels,\n",
    "                        out_channels=out_channels,\n",
    "                        kernel_size=kernel_size,\n",
    "                    ),\n",
    "                    nn.BatchNorm2d(out_channels),\n",
    "                    nn.Dropout(0.2),\n",
    "                    nn.ReLU(),\n",
    "                ]\n",
    "            )\n",
    "\n",
    "            # Compute convolved output dimensions\n",
    "            in_dim = get_conv_dim(\n",
    "                in_dim, padding=0, dilation=1, kernel_size=kernel_size, stride=1\n",
    "            )\n",
    "\n",
    "            in_channels = out_channels\n",
    "            out_channels *= 2\n",
    "\n",
    "        out_channels = int(out_channels / 2)\n",
    "\n",
    "        conv_layers.append(nn.MaxPool2d(2, 2))\n",
    "        in_dim = int(in_dim / 2)\n",
    "\n",
    "        # We optimize the number of layers, hidden units and dropout ratio in each layer.\n",
    "        fc_layers = [nn.Flatten()]\n",
    "\n",
    "        # Compute flatten size\n",
    "        in_features = out_channels * in_dim * in_dim\n",
    "        for i in [f_units_l0, f_units_l1]:\n",
    "            out_features = i\n",
    "            fc_layers.extend(\n",
    "                [\n",
    "                    nn.Linear(in_features, out_features),\n",
    "                    nn.BatchNorm1d(out_features),\n",
    "                    nn.Dropout(0.2),\n",
    "                    nn.ReLU(),\n",
    "                ]\n",
    "            )\n",
    "\n",
    "            in_features = out_features\n",
    "\n",
    "        fc_layers.append(nn.Linear(in_features, 2))\n",
    "        self.model = torch.nn.Sequential(*[*conv_layers, *fc_layers])\n",
    "\n",
    "    def forward(self, x):\n",
    "        x = self.model(x)\n",
    "        x = F.softmax(x, dim=-1)\n",
    "        return x"
   ]
  },
  {
   "cell_type": "markdown",
   "id": "87f89aec-5926-4798-bdf8-86356fcf0173",
   "metadata": {
    "papermill": {
     "duration": 0.016286,
     "end_time": "2021-11-02T18:22:00.646588",
     "exception": false,
     "start_time": "2021-11-02T18:22:00.630302",
     "status": "completed"
    },
    "tags": []
   },
   "source": [
    "# Optimize model hyperparameters"
   ]
  },
  {
   "cell_type": "markdown",
   "id": "7c41eaa5-e88a-46dc-b1db-992273b21bf4",
   "metadata": {
    "collapsed": true,
    "execution": {
     "iopub.execute_input": "2021-10-12T20:14:40.617771Z",
     "iopub.status.busy": "2021-10-12T20:14:40.617545Z",
     "iopub.status.idle": "2021-10-12T20:19:33.469804Z",
     "shell.execute_reply": "2021-10-12T20:19:33.469509Z",
     "shell.execute_reply.started": "2021-10-12T20:14:40.617749Z"
    },
    "jupyter": {
     "outputs_hidden": true
    },
    "papermill": {
     "duration": 0.0166,
     "end_time": "2021-11-02T18:22:00.679733",
     "exception": false,
     "start_time": "2021-11-02T18:22:00.663133",
     "status": "completed"
    },
    "tags": []
   },
   "source": [
    "## Gradient-boosted Random Forest Classifier"
   ]
  },
  {
   "cell_type": "code",
   "execution_count": 15,
   "id": "8c8aa473-0095-4dea-bfdb-dacb969ed527",
   "metadata": {
    "papermill": {
     "duration": 1709.711984,
     "end_time": "2021-11-02T18:50:30.408450",
     "exception": false,
     "start_time": "2021-11-02T18:22:00.696466",
     "status": "completed"
    },
    "tags": []
   },
   "outputs": [
    {
     "name": "stderr",
     "output_type": "stream",
     "text": [
      "\u001b[32m[I 2024-11-01 22:54:46,316]\u001b[0m Using an existing study with name 'xgbrf' instead of creating a new one.\u001b[0m\n"
     ]
    },
    {
     "data": {
      "application/vnd.jupyter.widget-view+json": {
       "model_id": "675fd0d33b56489bae7030275a1dbce4",
       "version_major": 2,
       "version_minor": 0
      },
      "text/plain": [
       "  0%|          | 0/50 [00:00<?, ?it/s]"
      ]
     },
     "metadata": {},
     "output_type": "display_data"
    },
    {
     "name": "stdout",
     "output_type": "stream",
     "text": [
      "\u001b[32m[I 2024-11-01 22:56:02,186]\u001b[0m Trial 76 finished with value: 0.862631394514827 and parameters: {'n_estimators': 470, 'max_depth': 10, 'learning_rate': 0.06989323971429498, 'colsample_bytree': 0.6771203437258865, 'reg_lambda': 0.001108300748664384}. Best is trial 12 with value: 0.8627784636173459.\u001b[0m\n",
      "\u001b[32m[I 2024-11-01 22:57:25,024]\u001b[0m Trial 77 finished with value: 0.8621606506459524 and parameters: {'n_estimators': 470, 'max_depth': 10, 'learning_rate': 0.06511523255115753, 'colsample_bytree': 0.6255699707777629, 'reg_lambda': 0.04837016092125739}. Best is trial 12 with value: 0.8627784636173459.\u001b[0m\n",
      "\u001b[32m[I 2024-11-01 22:58:46,462]\u001b[0m Trial 78 finished with value: 0.8619980513742513 and parameters: {'n_estimators': 430, 'max_depth': 12, 'learning_rate': 0.053757459291464686, 'colsample_bytree': 0.7015924062659041, 'reg_lambda': 0.00019719200397740982}. Best is trial 12 with value: 0.8627784636173459.\u001b[0m\n",
      "\u001b[32m[I 2024-11-01 23:00:03,849]\u001b[0m Trial 79 finished with value: 0.8623971797208261 and parameters: {'n_estimators': 450, 'max_depth': 10, 'learning_rate': 0.07601162039350948, 'colsample_bytree': 0.6799490398219267, 'reg_lambda': 0.0015421573591086718}. Best is trial 12 with value: 0.8627784636173459.\u001b[0m\n",
      "\u001b[32m[I 2024-11-01 23:01:14,194]\u001b[0m Trial 80 finished with value: 0.8462552291462557 and parameters: {'n_estimators': 470, 'max_depth': 9, 'learning_rate': 0.11967735309918963, 'colsample_bytree': 0.33688811197970553, 'reg_lambda': 0.0011564837656893381}. Best is trial 12 with value: 0.8627784636173459.\u001b[0m\n",
      "\u001b[32m[I 2024-11-01 23:02:01,545]\u001b[0m Trial 81 finished with value: 0.8510758681444435 and parameters: {'n_estimators': 410, 'max_depth': 6, 'learning_rate': 0.030490505443386082, 'colsample_bytree': 0.7257110530635323, 'reg_lambda': 0.003423362048653168}. Best is trial 12 with value: 0.8627784636173459.\u001b[0m\n",
      "\u001b[32m[I 2024-11-01 23:03:31,013]\u001b[0m Trial 82 finished with value: 0.8625245628557092 and parameters: {'n_estimators': 500, 'max_depth': 11, 'learning_rate': 0.2384573314933085, 'colsample_bytree': 0.661011309548524, 'reg_lambda': 0.0006439458553614619}. Best is trial 12 with value: 0.8627784636173459.\u001b[0m\n",
      "\u001b[32m[I 2024-11-01 23:05:09,264]\u001b[0m Trial 83 finished with value: 0.8617439556984728 and parameters: {'n_estimators': 490, 'max_depth': 12, 'learning_rate': 0.6537080164618706, 'colsample_bytree': 0.7449057822165569, 'reg_lambda': 0.0003375397610467237}. Best is trial 12 with value: 0.8627784636173459.\u001b[0m\n",
      "\u001b[32m[I 2024-11-01 23:06:42,815]\u001b[0m Trial 84 finished with value: 0.8624165058303288 and parameters: {'n_estimators': 480, 'max_depth': 11, 'learning_rate': 0.1504833626711334, 'colsample_bytree': 0.6650998484592111, 'reg_lambda': 0.0007938666082647356}. Best is trial 12 with value: 0.8627784636173459.\u001b[0m\n",
      "\u001b[32m[I 2024-11-01 23:08:07,454]\u001b[0m Trial 85 finished with value: 0.8624233777207754 and parameters: {'n_estimators': 450, 'max_depth': 10, 'learning_rate': 0.2558092030326467, 'colsample_bytree': 0.7066705494405678, 'reg_lambda': 6.817741402424805e-07}. Best is trial 12 with value: 0.8627784636173459.\u001b[0m\n",
      "\u001b[32m[I 2024-11-01 23:09:38,071]\u001b[0m Trial 86 finished with value: 0.8597309541684361 and parameters: {'n_estimators': 470, 'max_depth': 13, 'learning_rate': 0.09236331859282697, 'colsample_bytree': 0.5662937420312488, 'reg_lambda': 0.0004595895958709665}. Best is trial 12 with value: 0.8627784636173459.\u001b[0m\n",
      "\u001b[32m[I 2024-11-01 23:11:12,631]\u001b[0m Trial 87 finished with value: 0.8614873362647092 and parameters: {'n_estimators': 500, 'max_depth': 12, 'learning_rate': 0.04547441476090418, 'colsample_bytree': 0.7555681826851155, 'reg_lambda': 0.013778370160468381}. Best is trial 12 with value: 0.8627784636173459.\u001b[0m\n",
      "\u001b[32m[I 2024-11-01 23:12:41,375]\u001b[0m Trial 88 finished with value: 0.8618418219777308 and parameters: {'n_estimators': 460, 'max_depth': 13, 'learning_rate': 0.37584538198036915, 'colsample_bytree': 0.6271191368708589, 'reg_lambda': 7.97662721075178e-05}. Best is trial 12 with value: 0.8627784636173459.\u001b[0m\n",
      "\u001b[32m[I 2024-11-01 23:12:54,131]\u001b[0m Trial 89 finished with value: 0.8600533650170699 and parameters: {'n_estimators': 50, 'max_depth': 14, 'learning_rate': 0.18316778643098158, 'colsample_bytree': 0.6798460072887228, 'reg_lambda': 0.00021173956740020726}. Best is trial 12 with value: 0.8627784636173459.\u001b[0m\n",
      "\u001b[32m[I 2024-11-01 23:13:44,083]\u001b[0m Trial 90 finished with value: 0.8591542278299734 and parameters: {'n_estimators': 300, 'max_depth': 8, 'learning_rate': 0.0783723230211964, 'colsample_bytree': 0.7264786123868702, 'reg_lambda': 0.008588075662279425}. Best is trial 12 with value: 0.8627784636173459.\u001b[0m\n",
      "\u001b[32m[I 2024-11-01 23:14:16,788]\u001b[0m Trial 91 finished with value: 0.8619067665190729 and parameters: {'n_estimators': 180, 'max_depth': 11, 'learning_rate': 0.11248678545427963, 'colsample_bytree': 0.6951758585803011, 'reg_lambda': 0.0050873925402227715}. Best is trial 12 with value: 0.8627784636173459.\u001b[0m\n",
      "\u001b[32m[I 2024-11-01 23:15:45,990]\u001b[0m Trial 92 finished with value: 0.8625245628557092 and parameters: {'n_estimators': 500, 'max_depth': 11, 'learning_rate': 0.23187606190260224, 'colsample_bytree': 0.6501453022813206, 'reg_lambda': 0.0006007536088671895}. Best is trial 12 with value: 0.8627784636173459.\u001b[0m\n",
      "\u001b[32m[I 2024-11-01 23:17:01,790]\u001b[0m Trial 93 finished with value: 0.8619112531089436 and parameters: {'n_estimators': 490, 'max_depth': 9, 'learning_rate': 0.20075773150717843, 'colsample_bytree': 0.6425283330510676, 'reg_lambda': 0.0010498683029210626}. Best is trial 12 with value: 0.8627784636173459.\u001b[0m\n",
      "\u001b[32m[I 2024-11-01 23:18:16,824]\u001b[0m Trial 94 finished with value: 0.8620919747249937 and parameters: {'n_estimators': 430, 'max_depth': 11, 'learning_rate': 0.2976327038745941, 'colsample_bytree': 0.6720060214295895, 'reg_lambda': 0.0007339204524373124}. Best is trial 12 with value: 0.8627784636173459.\u001b[0m\n",
      "\u001b[32m[I 2024-11-01 23:19:37,971]\u001b[0m Trial 95 finished with value: 0.8628576251072646 and parameters: {'n_estimators': 480, 'max_depth': 10, 'learning_rate': 0.14017359020607634, 'colsample_bytree': 0.7202165312384398, 'reg_lambda': 0.0021489395744229145}. Best is trial 95 with value: 0.8628576251072646.\u001b[0m\n",
      "\u001b[32m[I 2024-11-01 23:21:02,789]\u001b[0m Trial 96 finished with value: 0.8628576251072646 and parameters: {'n_estimators': 480, 'max_depth': 10, 'learning_rate': 0.13516247535642742, 'colsample_bytree': 0.7146672352228224, 'reg_lambda': 0.0020446161203368767}. Best is trial 95 with value: 0.8628576251072646.\u001b[0m\n",
      "\u001b[32m[I 2024-11-01 23:21:32,669]\u001b[0m Trial 97 finished with value: 0.7995102735543003 and parameters: {'n_estimators': 480, 'max_depth': 3, 'learning_rate': 0.13434477233737863, 'colsample_bytree': 0.7385532877618575, 'reg_lambda': 0.0022620422132485205}. Best is trial 95 with value: 0.8628576251072646.\u001b[0m\n",
      "\u001b[32m[I 2024-11-01 23:22:59,935]\u001b[0m Trial 98 finished with value: 0.8613944356894178 and parameters: {'n_estimators': 450, 'max_depth': 15, 'learning_rate': 0.08959689248182309, 'colsample_bytree': 0.717152639979747, 'reg_lambda': 0.0044643200854220366}. Best is trial 95 with value: 0.8628576251072646.\u001b[0m\n",
      "\u001b[32m[I 2024-11-01 23:24:23,161]\u001b[0m Trial 99 finished with value: 0.8612936316070539 and parameters: {'n_estimators': 430, 'max_depth': 14, 'learning_rate': 0.056802781913272746, 'colsample_bytree': 0.7611934086846766, 'reg_lambda': 0.0018697297901750303}. Best is trial 95 with value: 0.8628576251072646.\u001b[0m\n",
      "\u001b[32m[I 2024-11-01 23:25:40,425]\u001b[0m Trial 100 finished with value: 0.8540682941655137 and parameters: {'n_estimators': 470, 'max_depth': 10, 'learning_rate': 0.16816281102651662, 'colsample_bytree': 0.41484309515178464, 'reg_lambda': 0.0025942979173844494}. Best is trial 95 with value: 0.8628576251072646.\u001b[0m\n",
      "\u001b[32m[I 2024-11-01 23:26:18,839]\u001b[0m Trial 101 finished with value: 0.7241672682314837 and parameters: {'n_estimators': 240, 'max_depth': 9, 'learning_rate': 0.03782665905979472, 'colsample_bytree': 0.20245056600371897, 'reg_lambda': 0.001294071265927997}. Best is trial 95 with value: 0.8628576251072646.\u001b[0m\n",
      "\u001b[32m[I 2024-11-01 23:27:49,679]\u001b[0m Trial 102 finished with value: 0.862323846231863 and parameters: {'n_estimators': 490, 'max_depth': 10, 'learning_rate': 0.11332639257679948, 'colsample_bytree': 0.6962275638871995, 'reg_lambda': 0.00048378133840791353}. Best is trial 95 with value: 0.8628576251072646.\u001b[0m\n",
      "\u001b[32m[I 2024-11-01 23:29:14,480]\u001b[0m Trial 103 finished with value: 0.861789303006432 and parameters: {'n_estimators': 460, 'max_depth': 12, 'learning_rate': 0.09119428418762025, 'colsample_bytree': 0.7240700806412051, 'reg_lambda': 0.0002661689415025504}. Best is trial 95 with value: 0.8628576251072646.\u001b[0m\n",
      "\u001b[32m[I 2024-11-01 23:30:45,080]\u001b[0m Trial 104 finished with value: 0.8619843828929414 and parameters: {'n_estimators': 480, 'max_depth': 13, 'learning_rate': 0.07026103197620046, 'colsample_bytree': 0.7090590967288031, 'reg_lambda': 0.006323335300815828}. Best is trial 95 with value: 0.8628576251072646.\u001b[0m\n",
      "\u001b[32m[I 2024-11-01 23:32:11,045]\u001b[0m Trial 105 finished with value: 0.8621261757004778 and parameters: {'n_estimators': 490, 'max_depth': 10, 'learning_rate': 0.13896095129016436, 'colsample_bytree': 0.7441743872710754, 'reg_lambda': 0.003243359654101263}. Best is trial 95 with value: 0.8628576251072646.\u001b[0m\n",
      "\u001b[32m[I 2024-11-01 23:33:56,117]\u001b[0m Trial 106 finished with value: 0.8613865764847692 and parameters: {'n_estimators': 450, 'max_depth': 14, 'learning_rate': 0.2012164684538776, 'colsample_bytree': 0.6925389371042933, 'reg_lambda': 0.0009558150140298278}. Best is trial 95 with value: 0.8628576251072646.\u001b[0m\n",
      "\u001b[32m[I 2024-11-01 23:35:30,724]\u001b[0m Trial 107 finished with value: 0.8611527883024526 and parameters: {'n_estimators': 500, 'max_depth': 12, 'learning_rate': 0.3611093858116541, 'colsample_bytree': 0.7728853342876084, 'reg_lambda': 0.014920070968455719}. Best is trial 95 with value: 0.8628576251072646.\u001b[0m\n",
      "\u001b[32m[I 2024-11-01 23:36:12,567]\u001b[0m Trial 108 finished with value: 0.8611021439704649 and parameters: {'n_estimators': 210, 'max_depth': 15, 'learning_rate': 0.5024776351942143, 'colsample_bytree': 0.7388834850560457, 'reg_lambda': 0.0001637377397217654}. Best is trial 95 with value: 0.8628576251072646.\u001b[0m\n",
      "\u001b[32m[I 2024-11-01 23:36:55,488]\u001b[0m Trial 109 finished with value: 0.861254658134945 and parameters: {'n_estimators': 260, 'max_depth': 9, 'learning_rate': 0.04760527939972897, 'colsample_bytree': 0.7184106473575881, 'reg_lambda': 9.859441819399628e-05}. Best is trial 95 with value: 0.8628576251072646.\u001b[0m\n",
      "\u001b[32m[I 2024-11-01 23:38:21,248]\u001b[0m Trial 110 finished with value: 0.8581149843243506 and parameters: {'n_estimators': 470, 'max_depth': 13, 'learning_rate': 0.16475474456236802, 'colsample_bytree': 0.5134776529150954, 'reg_lambda': 0.00031971171396223523}. Best is trial 95 with value: 0.8628576251072646.\u001b[0m\n",
      "\u001b[32m[I 2024-11-01 23:38:43,445]\u001b[0m Trial 111 finished with value: 0.8599619105656922 and parameters: {'n_estimators': 140, 'max_depth': 8, 'learning_rate': 0.0036927631915297868, 'colsample_bytree': 0.6629330175937187, 'reg_lambda': 4.92648728551661e-05}. Best is trial 95 with value: 0.8628576251072646.\u001b[0m\n",
      "\u001b[32m[I 2024-11-01 23:40:10,831]\u001b[0m Trial 112 finished with value: 0.8625245628557092 and parameters: {'n_estimators': 500, 'max_depth': 11, 'learning_rate': 0.22962503904990708, 'colsample_bytree': 0.6504197938758692, 'reg_lambda': 0.0005806702541277628}. Best is trial 95 with value: 0.8628576251072646.\u001b[0m\n",
      "\u001b[32m[I 2024-11-01 23:41:35,741]\u001b[0m Trial 113 finished with value: 0.8624165058303288 and parameters: {'n_estimators': 480, 'max_depth': 11, 'learning_rate': 0.2842106395103438, 'colsample_bytree': 0.6781548587086872, 'reg_lambda': 0.00042806947842641215}. Best is trial 95 with value: 0.8628576251072646.\u001b[0m\n",
      "\u001b[32m[I 2024-11-01 23:43:08,859]\u001b[0m Trial 114 finished with value: 0.8612363726324015 and parameters: {'n_estimators': 500, 'max_depth': 12, 'learning_rate': 0.12331123834469268, 'colsample_bytree': 0.7010398550693603, 'reg_lambda': 0.00173117319709232}. Best is trial 95 with value: 0.8628576251072646.\u001b[0m\n",
      "\u001b[32m[I 2024-11-01 23:44:26,608]\u001b[0m Trial 115 finished with value: 0.8626125834717355 and parameters: {'n_estimators': 460, 'max_depth': 10, 'learning_rate': 0.0006169383672571935, 'colsample_bytree': 0.6858025129001447, 'reg_lambda': 0.0011438812441787768}. Best is trial 95 with value: 0.8628576251072646.\u001b[0m\n",
      "\u001b[32m[I 2024-11-01 23:45:35,697]\u001b[0m Trial 116 finished with value: 0.8616392219178195 and parameters: {'n_estimators': 410, 'max_depth': 10, 'learning_rate': 0.00019333883689900548, 'colsample_bytree': 0.685412413222536, 'reg_lambda': 0.0009675195514826913}. Best is trial 95 with value: 0.8628576251072646.\u001b[0m\n",
      "\u001b[32m[I 2024-11-01 23:46:47,985]\u001b[0m Trial 117 finished with value: 0.8616667558748133 and parameters: {'n_estimators': 460, 'max_depth': 9, 'learning_rate': 0.00030796435912040614, 'colsample_bytree': 0.7544427441210199, 'reg_lambda': 0.001585613589915812}. Best is trial 95 with value: 0.8628576251072646.\u001b[0m\n",
      "\u001b[32m[I 2024-11-01 23:48:00,640]\u001b[0m Trial 118 finished with value: 0.8620079653347512 and parameters: {'n_estimators': 430, 'max_depth': 10, 'learning_rate': 0.0012536846474646669, 'colsample_bytree': 0.7349832514519675, 'reg_lambda': 0.025853396159682438}. Best is trial 95 with value: 0.8628576251072646.\u001b[0m\n",
      "\u001b[32m[I 2024-11-01 23:49:30,294]\u001b[0m Trial 119 finished with value: 0.861388258407968 and parameters: {'n_estimators': 440, 'max_depth': 16, 'learning_rate': 0.010836470468805481, 'colsample_bytree': 0.7087372929564948, 'reg_lambda': 0.000763668583515471}. Best is trial 95 with value: 0.8628576251072646.\u001b[0m\n",
      "\u001b[32m[I 2024-11-01 23:50:36,388]\u001b[0m Trial 120 finished with value: 0.8607724115031439 and parameters: {'n_estimators': 350, 'max_depth': 14, 'learning_rate': 0.0007893415370068291, 'colsample_bytree': 0.6220876236667391, 'reg_lambda': 0.0013474984907577653}. Best is trial 95 with value: 0.8628576251072646.\u001b[0m\n",
      "\u001b[32m[I 2024-11-01 23:51:56,904]\u001b[0m Trial 121 finished with value: 0.8621313305518938 and parameters: {'n_estimators': 480, 'max_depth': 10, 'learning_rate': 0.061053990294110204, 'colsample_bytree': 0.7840379437155364, 'reg_lambda': 0.0002823786220828474}. Best is trial 95 with value: 0.8628576251072646.\u001b[0m\n",
      "\u001b[32m[I 2024-11-01 23:53:23,901]\u001b[0m Trial 122 finished with value: 0.8623792176152685 and parameters: {'n_estimators': 490, 'max_depth': 11, 'learning_rate': 0.14970007456441742, 'colsample_bytree': 0.6416343461022577, 'reg_lambda': 0.0006075217917909567}. Best is trial 95 with value: 0.8628576251072646.\u001b[0m\n",
      "\u001b[32m[I 2024-11-01 23:54:46,951]\u001b[0m Trial 123 finished with value: 0.8626983874669248 and parameters: {'n_estimators': 470, 'max_depth': 11, 'learning_rate': 0.10103491993840562, 'colsample_bytree': 0.6555825543329281, 'reg_lambda': 0.0003932855195558891}. Best is trial 95 with value: 0.8628576251072646.\u001b[0m\n",
      "\u001b[32m[I 2024-11-01 23:56:13,129]\u001b[0m Trial 124 finished with value: 0.8620876995105203 and parameters: {'n_estimators': 460, 'max_depth': 12, 'learning_rate': 0.10011332349280798, 'colsample_bytree': 0.6640559582222101, 'reg_lambda': 0.00012470972147622154}. Best is trial 95 with value: 0.8628576251072646.\u001b[0m\n",
      "\u001b[32m[I 2024-11-01 23:57:47,840]\u001b[0m Trial 125 finished with value: 0.8616512891681918 and parameters: {'n_estimators': 470, 'max_depth': 15, 'learning_rate': 0.002034155266025783, 'colsample_bytree': 0.7222537515362978, 'reg_lambda': 0.0004164136650949017}. Best is trial 95 with value: 0.8628576251072646.\u001b[0m\n"
     ]
    }
   ],
   "source": [
    "def objective(trial):\n",
    "\n",
    "    clf = OneVsRestClassifier(\n",
    "        make_pipeline(\n",
    "            StandardScaler(),\n",
    "            XGBRFClassifier(\n",
    "                n_estimators=trial.suggest_int(\"n_estimators\", 10, 500, 10),\n",
    "                max_depth=trial.suggest_int(\"max_depth\", 2, 20),\n",
    "                learning_rate=trial.suggest_float(\"learning_rate\", 1e-4, 1, log=True),\n",
    "                colsample_bytree=trial.suggest_float(\"colsample_bytree\", 0.2, 0.8),\n",
    "                reg_lambda=trial.suggest_float(\"reg_lambda\", 1e-7, 1e-1, log=True),\n",
    "                use_label_encoder=False,\n",
    "                eval_metric=\"logloss\",  # set to hide warning\n",
    "            ),\n",
    "        )\n",
    "    )\n",
    "\n",
    "    # Avoid overfitting with 4-fold cross validation\n",
    "    return cross_val_score(\n",
    "        clf, X_train.numpy(), y_train.numpy(), scoring=SCORING_METRIC, cv=4\n",
    "    ).mean()\n",
    "\n",
    "#3. Create a study object and optimize the objective function.\n",
    "rf_study = optuna.create_study(\n",
    "    direction=\"maximize\",\n",
    "    study_name=\"xgbrf\",\n",
    "    storage=f\"sqlite:///C:/Users/Aastha_Ishan/Desktop/bento-manuscript-pub/bento-manuscript-pub/models/ml_multilabel_20211102/optuna.db\",\n",
    "    load_if_exists=True,\n",
    ")\n",
    "# rf_study = optuna.create_study()\n",
    "rf_study.optimize(\n",
    "    objective, n_trials=N_TRIALS, n_jobs=1, show_progress_bar=True, gc_after_trial=False\n",
    ")"
   ]
  },
  {
   "cell_type": "code",
   "execution_count": 17,
   "id": "9a1df7fb-eae6-48e8-b07d-b2a6cd00db08",
   "metadata": {},
   "outputs": [],
   "source": [
    "# import optuna\n",
    "\n",
    "# optuna.delete_study(study_name=\"svc\", storage=f\"sqlite:///C:/Users/Aastha_Ishan/Desktop/bento-manuscript-pub/bento-manuscript-pub/models/ml_multilabel_20211102/optuna2.db\")\n"
   ]
  },
  {
   "cell_type": "code",
   "execution_count": 18,
   "id": "841a3413-4b38-48f0-8ae8-3fa0ba2c57a7",
   "metadata": {},
   "outputs": [
    {
     "name": "stdout",
     "output_type": "stream",
     "text": [
      "True\n"
     ]
    }
   ],
   "source": [
    "import os\n",
    "print(os.path.exists(\"C:/Users/Aastha_Ishan/Desktop/bento-manuscript-pub/bento-manuscript-pub/models/ml_multilabel_20211102/optuna.db\"))\n"
   ]
  },
  {
   "cell_type": "markdown",
   "id": "40487850-3fe0-4469-8ade-29eebd138dce",
   "metadata": {
    "collapsed": true,
    "execution": {
     "iopub.execute_input": "2021-10-12T20:19:33.470576Z",
     "iopub.status.busy": "2021-10-12T20:19:33.470462Z",
     "iopub.status.idle": "2021-10-12T20:44:34.683099Z",
     "shell.execute_reply": "2021-10-12T20:44:34.682772Z",
     "shell.execute_reply.started": "2021-10-12T20:19:33.470563Z"
    },
    "jupyter": {
     "outputs_hidden": true
    },
    "papermill": {
     "duration": 0.023971,
     "end_time": "2021-11-02T18:50:30.458112",
     "exception": false,
     "start_time": "2021-11-02T18:50:30.434141",
     "status": "completed"
    },
    "tags": []
   },
   "source": [
    "## Support Vector Classifier"
   ]
  },
  {
   "cell_type": "code",
   "execution_count": 20,
   "id": "16459232-896e-44f7-ac60-5f3ad46bf8b8",
   "metadata": {
    "papermill": {
     "duration": 2160.469604,
     "end_time": "2021-11-02T19:26:30.951989",
     "exception": false,
     "start_time": "2021-11-02T18:50:30.482385",
     "status": "completed"
    },
    "tags": []
   },
   "outputs": [
    {
     "name": "stderr",
     "output_type": "stream",
     "text": [
      "\u001b[32m[I 2024-11-01 23:59:50,493]\u001b[0m Using an existing study with name 'svc' instead of creating a new one.\u001b[0m\n"
     ]
    },
    {
     "data": {
      "application/vnd.jupyter.widget-view+json": {
       "model_id": "662559ae26484372b84f9cc6afecb67a",
       "version_major": 2,
       "version_minor": 0
      },
      "text/plain": [
       "  0%|          | 0/50 [00:00<?, ?it/s]"
      ]
     },
     "metadata": {},
     "output_type": "display_data"
    },
    {
     "name": "stdout",
     "output_type": "stream",
     "text": [
      "\u001b[32m[I 2024-11-02 00:00:36,047]\u001b[0m Trial 50 finished with value: 0.8666535617503005 and parameters: {'kernel': 'rbf', 'C': 0.9335345031595607, 'degree': 5}. Best is trial 50 with value: 0.8666535617503005.\u001b[0m\n",
      "\u001b[32m[I 2024-11-02 00:01:16,498]\u001b[0m Trial 51 finished with value: 0.8664583204821468 and parameters: {'kernel': 'rbf', 'C': 0.9279274785235484, 'degree': 5}. Best is trial 50 with value: 0.8666535617503005.\u001b[0m\n",
      "\u001b[32m[I 2024-11-02 00:01:57,344]\u001b[0m Trial 52 finished with value: 0.8667399785802018 and parameters: {'kernel': 'rbf', 'C': 0.9546182446690319, 'degree': 5}. Best is trial 52 with value: 0.8667399785802018.\u001b[0m\n",
      "\u001b[32m[I 2024-11-02 00:02:38,583]\u001b[0m Trial 53 finished with value: 0.8666446104090747 and parameters: {'kernel': 'rbf', 'C': 0.9876545139107036, 'degree': 5}. Best is trial 52 with value: 0.8667399785802018.\u001b[0m\n",
      "\u001b[32m[I 2024-11-02 00:03:18,412]\u001b[0m Trial 54 finished with value: 0.8667808432013303 and parameters: {'kernel': 'rbf', 'C': 0.9801296529313217, 'degree': 5}. Best is trial 54 with value: 0.8667808432013303.\u001b[0m\n",
      "\u001b[32m[I 2024-11-02 00:03:58,274]\u001b[0m Trial 55 finished with value: 0.8667304646318174 and parameters: {'kernel': 'rbf', 'C': 0.9838332871099618, 'degree': 5}. Best is trial 54 with value: 0.8667808432013303.\u001b[0m\n",
      "\u001b[32m[I 2024-11-02 00:04:38,606]\u001b[0m Trial 56 finished with value: 0.8662878393103861 and parameters: {'kernel': 'rbf', 'C': 0.8451952608037901, 'degree': 5}. Best is trial 54 with value: 0.8667808432013303.\u001b[0m\n",
      "\u001b[32m[I 2024-11-02 00:05:11,263]\u001b[0m Trial 57 finished with value: 0.711524984549736 and parameters: {'kernel': 'linear', 'C': 0.9936493813628771, 'degree': 5}. Best is trial 54 with value: 0.8667808432013303.\u001b[0m\n",
      "\u001b[32m[I 2024-11-02 00:05:59,257]\u001b[0m Trial 58 finished with value: 0.8543218731879921 and parameters: {'kernel': 'rbf', 'C': 0.2545901990359487, 'degree': 5}. Best is trial 54 with value: 0.8667808432013303.\u001b[0m\n",
      "\u001b[32m[I 2024-11-02 00:06:56,061]\u001b[0m Trial 59 finished with value: 0.5269245246692824 and parameters: {'kernel': 'poly', 'C': 0.20845449544540778, 'degree': 5}. Best is trial 54 with value: 0.8667808432013303.\u001b[0m\n",
      "\u001b[32m[I 2024-11-02 00:07:46,691]\u001b[0m Trial 60 finished with value: 0.8466905116483575 and parameters: {'kernel': 'rbf', 'C': 0.15113360271301393, 'degree': 5}. Best is trial 54 with value: 0.8667808432013303.\u001b[0m\n",
      "\u001b[32m[I 2024-11-02 00:08:30,079]\u001b[0m Trial 61 finished with value: 0.8668051081176197 and parameters: {'kernel': 'rbf', 'C': 0.9522355227175496, 'degree': 5}. Best is trial 61 with value: 0.8668051081176197.\u001b[0m\n",
      "\u001b[32m[I 2024-11-02 00:09:11,925]\u001b[0m Trial 62 finished with value: 0.8666889601561566 and parameters: {'kernel': 'rbf', 'C': 0.9463647856078755, 'degree': 5}. Best is trial 61 with value: 0.8668051081176197.\u001b[0m\n",
      "\u001b[32m[I 2024-11-02 00:09:52,903]\u001b[0m Trial 63 finished with value: 0.8668200392966348 and parameters: {'kernel': 'rbf', 'C': 0.9916172671985611, 'degree': 5}. Best is trial 63 with value: 0.8668200392966348.\u001b[0m\n",
      "\u001b[32m[I 2024-11-02 00:10:42,527]\u001b[0m Trial 64 finished with value: 0.8571892805023076 and parameters: {'kernel': 'rbf', 'C': 0.30396181165004527, 'degree': 5}. Best is trial 63 with value: 0.8668200392966348.\u001b[0m\n",
      "\u001b[32m[I 2024-11-02 00:12:26,660]\u001b[0m Trial 65 finished with value: 0.523363743208955 and parameters: {'kernel': 'rbf', 'C': 0.004185092290907445, 'degree': 5}. Best is trial 63 with value: 0.8668200392966348.\u001b[0m\n",
      "\u001b[32m[I 2024-11-02 00:14:22,678]\u001b[0m Trial 66 finished with value: 0.0 and parameters: {'kernel': 'rbf', 'C': 9.767330154883027e-05, 'degree': 5}. Best is trial 63 with value: 0.8668200392966348.\u001b[0m\n",
      "\u001b[32m[I 2024-11-02 00:16:25,435]\u001b[0m Trial 67 finished with value: 0.0 and parameters: {'kernel': 'rbf', 'C': 0.0006951416871483076, 'degree': 5}. Best is trial 63 with value: 0.8668200392966348.\u001b[0m\n",
      "\u001b[32m[I 2024-11-02 00:17:17,523]\u001b[0m Trial 68 finished with value: 0.8570454830415785 and parameters: {'kernel': 'rbf', 'C': 0.303539119496754, 'degree': 4}. Best is trial 63 with value: 0.8668200392966348.\u001b[0m\n",
      "\u001b[32m[I 2024-11-02 00:18:16,592]\u001b[0m Trial 69 finished with value: 0.86502405440763 and parameters: {'kernel': 'rbf', 'C': 0.6949863870916896, 'degree': 5}. Best is trial 63 with value: 0.8668200392966348.\u001b[0m\n",
      "\u001b[32m[I 2024-11-02 00:18:55,769]\u001b[0m Trial 70 finished with value: 0.7092643409905321 and parameters: {'kernel': 'linear', 'C': 0.09842888923078043, 'degree': 5}. Best is trial 63 with value: 0.8668200392966348.\u001b[0m\n",
      "\u001b[32m[I 2024-11-02 00:19:43,571]\u001b[0m Trial 71 finished with value: 0.8667249275980907 and parameters: {'kernel': 'rbf', 'C': 0.958135328869627, 'degree': 5}. Best is trial 63 with value: 0.8668200392966348.\u001b[0m\n",
      "\u001b[32m[I 2024-11-02 00:20:25,677]\u001b[0m Trial 72 finished with value: 0.8667304646318174 and parameters: {'kernel': 'rbf', 'C': 0.9850696845726892, 'degree': 5}. Best is trial 63 with value: 0.8668200392966348.\u001b[0m\n",
      "\u001b[32m[I 2024-11-02 00:21:11,198]\u001b[0m Trial 73 finished with value: 0.8625017714148404 and parameters: {'kernel': 'rbf', 'C': 0.4768684290272002, 'degree': 5}. Best is trial 63 with value: 0.8668200392966348.\u001b[0m\n",
      "\u001b[32m[I 2024-11-02 00:21:59,954]\u001b[0m Trial 74 finished with value: 0.8552047607671346 and parameters: {'kernel': 'rbf', 'C': 0.27190603892447457, 'degree': 5}. Best is trial 63 with value: 0.8668200392966348.\u001b[0m\n",
      "\u001b[32m[I 2024-11-02 00:23:02,194]\u001b[0m Trial 75 finished with value: 0.5184732091033828 and parameters: {'kernel': 'sigmoid', 'C': 0.1838467843582672, 'degree': 5}. Best is trial 63 with value: 0.8668200392966348.\u001b[0m\n",
      "\u001b[32m[I 2024-11-02 00:23:48,243]\u001b[0m Trial 76 finished with value: 0.8648741768919757 and parameters: {'kernel': 'rbf', 'C': 0.6594069341759697, 'degree': 4}. Best is trial 63 with value: 0.8668200392966348.\u001b[0m\n",
      "\u001b[32m[I 2024-11-02 00:24:34,526]\u001b[0m Trial 77 finished with value: 0.861240013630693 and parameters: {'kernel': 'rbf', 'C': 0.4427587839422629, 'degree': 5}. Best is trial 63 with value: 0.8668200392966348.\u001b[0m\n",
      "\u001b[32m[I 2024-11-02 00:25:21,587]\u001b[0m Trial 78 finished with value: 0.8656731383091799 and parameters: {'kernel': 'rbf', 'C': 0.7473021053239065, 'degree': 5}. Best is trial 63 with value: 0.8668200392966348.\u001b[0m\n",
      "\u001b[32m[I 2024-11-02 00:26:16,524]\u001b[0m Trial 79 finished with value: 0.8572369296489989 and parameters: {'kernel': 'rbf', 'C': 0.3049824989136686, 'degree': 4}. Best is trial 63 with value: 0.8668200392966348.\u001b[0m\n",
      "\u001b[32m[I 2024-11-02 00:27:06,677]\u001b[0m Trial 80 finished with value: 0.8590659743423742 and parameters: {'kernel': 'rbf', 'C': 0.3681284937472409, 'degree': 5}. Best is trial 63 with value: 0.8668200392966348.\u001b[0m\n",
      "\u001b[32m[I 2024-11-02 00:27:52,256]\u001b[0m Trial 81 finished with value: 0.8666623105703227 and parameters: {'kernel': 'rbf', 'C': 0.9516145467678898, 'degree': 5}. Best is trial 63 with value: 0.8668200392966348.\u001b[0m\n",
      "\u001b[32m[I 2024-11-02 00:28:41,840]\u001b[0m Trial 82 finished with value: 0.8634559484445544 and parameters: {'kernel': 'rbf', 'C': 0.5430334501595504, 'degree': 5}. Best is trial 63 with value: 0.8668200392966348.\u001b[0m\n",
      "\u001b[32m[I 2024-11-02 00:29:26,774]\u001b[0m Trial 83 finished with value: 0.8659180803199098 and parameters: {'kernel': 'rbf', 'C': 0.7535913037070441, 'degree': 5}. Best is trial 63 with value: 0.8668200392966348.\u001b[0m\n",
      "\u001b[32m[I 2024-11-02 00:30:12,626]\u001b[0m Trial 84 finished with value: 0.8667916277168047 and parameters: {'kernel': 'rbf', 'C': 0.9652954901522051, 'degree': 5}. Best is trial 63 with value: 0.8668200392966348.\u001b[0m\n",
      "\u001b[32m[I 2024-11-02 00:31:15,793]\u001b[0m Trial 85 finished with value: 0.5623273152914019 and parameters: {'kernel': 'poly', 'C': 0.4747117277823788, 'degree': 5}. Best is trial 63 with value: 0.8668200392966348.\u001b[0m\n",
      "\u001b[32m[I 2024-11-02 00:32:04,369]\u001b[0m Trial 86 finished with value: 0.8652897958684302 and parameters: {'kernel': 'rbf', 'C': 0.7228221771662824, 'degree': 5}. Best is trial 63 with value: 0.8668200392966348.\u001b[0m\n",
      "\u001b[32m[I 2024-11-02 00:32:53,950]\u001b[0m Trial 87 finished with value: 0.8635373530848232 and parameters: {'kernel': 'rbf', 'C': 0.554812106334414, 'degree': 5}. Best is trial 63 with value: 0.8668200392966348.\u001b[0m\n",
      "\u001b[32m[I 2024-11-02 00:33:49,115]\u001b[0m Trial 88 finished with value: 0.8527104600212194 and parameters: {'kernel': 'rbf', 'C': 0.23392687560610081, 'degree': 5}. Best is trial 63 with value: 0.8668200392966348.\u001b[0m\n",
      "\u001b[32m[I 2024-11-02 00:34:50,864]\u001b[0m Trial 89 finished with value: 0.5122578641473885 and parameters: {'kernel': 'sigmoid', 'C': 0.37412035821518114, 'degree': 5}. Best is trial 63 with value: 0.8668200392966348.\u001b[0m\n",
      "\u001b[32m[I 2024-11-02 00:35:35,653]\u001b[0m Trial 90 finished with value: 0.8667304646318174 and parameters: {'kernel': 'rbf', 'C': 0.9845973664728767, 'degree': 5}. Best is trial 63 with value: 0.8668200392966348.\u001b[0m\n",
      "\u001b[32m[I 2024-11-02 00:36:23,000]\u001b[0m Trial 91 finished with value: 0.8659099198499483 and parameters: {'kernel': 'rbf', 'C': 0.7574653675178098, 'degree': 5}. Best is trial 63 with value: 0.8668200392966348.\u001b[0m\n",
      "\u001b[32m[I 2024-11-02 00:37:09,799]\u001b[0m Trial 92 finished with value: 0.8635373530848232 and parameters: {'kernel': 'rbf', 'C': 0.5528160946021403, 'degree': 5}. Best is trial 63 with value: 0.8668200392966348.\u001b[0m\n",
      "\u001b[32m[I 2024-11-02 00:38:00,322]\u001b[0m Trial 93 finished with value: 0.8667249275980907 and parameters: {'kernel': 'rbf', 'C': 0.9614498497597473, 'degree': 5}. Best is trial 63 with value: 0.8668200392966348.\u001b[0m\n",
      "\u001b[32m[I 2024-11-02 00:38:53,562]\u001b[0m Trial 94 finished with value: 0.8600395288594145 and parameters: {'kernel': 'rbf', 'C': 0.40297022670936317, 'degree': 5}. Best is trial 63 with value: 0.8668200392966348.\u001b[0m\n",
      "\u001b[32m[I 2024-11-02 00:39:55,010]\u001b[0m Trial 95 finished with value: 0.0 and parameters: {'kernel': 'linear', 'C': 1.3420284236069275e-05, 'degree': 5}. Best is trial 63 with value: 0.8668200392966348.\u001b[0m\n",
      "\u001b[32m[I 2024-11-02 00:40:44,228]\u001b[0m Trial 96 finished with value: 0.8667304646318174 and parameters: {'kernel': 'rbf', 'C': 0.9851868576492446, 'degree': 5}. Best is trial 63 with value: 0.8668200392966348.\u001b[0m\n",
      "\u001b[32m[I 2024-11-02 00:41:36,881]\u001b[0m Trial 97 finished with value: 0.8642107467901141 and parameters: {'kernel': 'rbf', 'C': 0.6152165939214924, 'degree': 5}. Best is trial 63 with value: 0.8668200392966348.\u001b[0m\n",
      "\u001b[32m[I 2024-11-02 00:42:27,793]\u001b[0m Trial 98 finished with value: 0.865752958685047 and parameters: {'kernel': 'rbf', 'C': 0.7634645860092258, 'degree': 4}. Best is trial 63 with value: 0.8668200392966348.\u001b[0m\n",
      "\u001b[32m[I 2024-11-02 00:43:30,403]\u001b[0m Trial 99 finished with value: 0.848928677105638 and parameters: {'kernel': 'rbf', 'C': 0.17595009500089792, 'degree': 5}. Best is trial 63 with value: 0.8668200392966348.\u001b[0m\n"
     ]
    }
   ],
   "source": [
    "def objective(trial):\n",
    "\n",
    "    clf = OneVsRestClassifier(\n",
    "        make_pipeline(\n",
    "            StandardScaler(),\n",
    "            SVC(\n",
    "                kernel=trial.suggest_categorical(\n",
    "                    \"kernel\", [\"linear\", \"poly\", \"rbf\", \"sigmoid\"]\n",
    "                ),\n",
    "                C=trial.suggest_float(\"C\", 1e-5, 1, log=True),\n",
    "                degree=trial.suggest_int(\"degree\", 2, 5),\n",
    "                probability=True,\n",
    "            ),\n",
    "        )\n",
    "    )\n",
    "\n",
    "    # Avoid overfitting with 4-fold cross validation\n",
    "    return cross_val_score(clf, X_train.numpy(), y_train.numpy(), scoring=SCORING_METRIC, cv=4).mean()\n",
    "\n",
    "# 3. Create a study object and optimize the objective function.\n",
    "svc_study = optuna.create_study(\n",
    "    direction=\"maximize\",\n",
    "    study_name=\"svc\",\n",
    "    storage=f\"sqlite:///C:/Users/Aastha_Ishan/Desktop/bento-manuscript-pub/bento-manuscript-pub/models/ml_multilabel_20211102/optuna.db\",\n",
    "    load_if_exists=True,\n",
    ")\n",
    "svc_study.optimize(\n",
    "    objective, n_trials=N_TRIALS, n_jobs=1, show_progress_bar=True, gc_after_trial=False\n",
    ")"
   ]
  },
  {
   "cell_type": "code",
   "execution_count": 21,
   "id": "5bf79188-25ea-4a80-a5c2-fbf4c2f503df",
   "metadata": {},
   "outputs": [
    {
     "name": "stdout",
     "output_type": "stream",
     "text": [
      "<class 'torch.Tensor'>\n",
      "torch.int64\n"
     ]
    }
   ],
   "source": [
    "print(type(y_train))\n",
    "print(y_train.dtype)\n",
    "y_train = y_train.long()\n"
   ]
  },
  {
   "cell_type": "markdown",
   "id": "8b2ef31b-ddf7-4d8f-a6c8-2b7748d22e0e",
   "metadata": {
    "papermill": {
     "duration": 0.031784,
     "end_time": "2021-11-02T19:26:31.016525",
     "exception": false,
     "start_time": "2021-11-02T19:26:30.984741",
     "status": "completed"
    },
    "tags": []
   },
   "source": [
    "## Feed Forward Neural Net"
   ]
  },
  {
   "cell_type": "code",
   "execution_count": null,
   "id": "355b2748-48de-4106-b153-b1788f06f345",
   "metadata": {
    "papermill": {
     "duration": 3161.060665,
     "end_time": "2021-11-02T20:19:12.108926",
     "exception": false,
     "start_time": "2021-11-02T19:26:31.048261",
     "status": "completed"
    },
    "tags": []
   },
   "outputs": [],
   "source": [
    "def objective(trial):\n",
    "\n",
    "    clf = OneVsRestClassifier(\n",
    "        NeuralNetClassifier(\n",
    "            module=FCModule,\n",
    "            optimizer=torch.optim.Adam,\n",
    "            module__l0_size=trial.suggest_int(\"module__l0_size\", 10, 300),\n",
    "            module__l1_size=trial.suggest_int(\"module__l1_size\", 10, 300),\n",
    "            max_epochs=NN_MAX_EPOCHS,\n",
    "            # Internal 80/20 train valid split\n",
    "            device=\"cpu\",\n",
    "            verbose=False,\n",
    "        ),\n",
    "    )\n",
    "\n",
    "    clf.fit(X_train, y_train)\n",
    "\n",
    "    # Avoid overfitting by evaluating internal 20% validation\n",
    "    return np.mean([e.history[-1, \"valid_loss\"] for e in clf.estimators_])\n",
    "\n",
    "# 3. Create a study object and optimize the objective function.\n",
    "nn_study = optuna.create_study(\n",
    "    direction=\"minimize\",\n",
    "    study_name=\"ffnn\",\n",
    "    storage=f\"sqlite:///C:/Users/Aastha_Ishan/Desktop/bento-manuscript-pub/bento-manuscript-pub/models/ml_multilabel_20211102/optuna2.db\",\n",
    "    load_if_exists=True,\n",
    ")\n",
    "nn_study.optimize(\n",
    "    objective, n_trials=N_TRIALS, n_jobs=1, show_progress_bar=True, gc_after_trial=False\n",
    ")"
   ]
  },
  {
   "cell_type": "markdown",
   "id": "3b6514d6-2ac9-46b9-b846-adfde3f7d35c",
   "metadata": {
    "papermill": {
     "duration": 0.041143,
     "end_time": "2021-11-02T20:19:12.190263",
     "exception": false,
     "start_time": "2021-11-02T20:19:12.149120",
     "status": "completed"
    },
    "tags": []
   },
   "source": [
    "## CNN Neural Net"
   ]
  },
  {
   "cell_type": "code",
   "execution_count": null,
   "id": "c9720e74-66c6-4084-930e-c78eacefd2ce",
   "metadata": {
    "papermill": {
     "duration": 18617.950564,
     "end_time": "2021-11-03T01:29:30.181967",
     "exception": false,
     "start_time": "2021-11-02T20:19:12.231403",
     "status": "completed"
    },
    "tags": []
   },
   "outputs": [],
   "source": [
    "def objective(trial):\n",
    "\n",
    "    # Initialize classifier model\n",
    "    clf = OneVsRestClassifier(\n",
    "        NeuralNetClassifier(\n",
    "            module=SpotsBinaryModule,\n",
    "            module__n_conv_layers=2,\n",
    "            module__in_dim=64,\n",
    "            module__out_channels=trial.suggest_int(\"module__out_channels\", 2, 16),\n",
    "            module__kernel_size=3,\n",
    "            module__f_units_l0=trial.suggest_int(\"module__f_units_l0\", 10, 300),\n",
    "            module__f_units_l1=trial.suggest_int(\"module__f_units_l1\", 10, 100),\n",
    "            optimizer=torch.optim.Adam,\n",
    "            max_epochs=CNN_MAX_EPOCHS,\n",
    "            callbacks=[\n",
    "                EpochScoring(\n",
    "                    scoring=\"f1_macro\",\n",
    "                    name=\"valid_f1\",\n",
    "                    lower_is_better=False,\n",
    "                ),\n",
    "            ],\n",
    "            # Internal 80/20 train valid split\n",
    "            device=\"cpu\",\n",
    "            verbose=False,\n",
    "        ),\n",
    "    )\n",
    "\n",
    "    clf.fit(X_img_train, y_img_train)\n",
    "\n",
    "    # Avoid overfitting by evaluating internal 20% validation\n",
    "    return np.mean([e.history[-1, \"valid_loss\"] for e in clf.estimators_])\n",
    "\n",
    "\n",
    "# 3. Create a study object and optimize the objective function.\n",
    "cnn_study = optuna.create_study(\n",
    "    direction=\"minimize\",\n",
    "    study_name=\"cnn\",\n",
    "    storage=f\"sqlite:///C:/Users/Aastha_Ishan/Desktop/bento-manuscript-pub/bento-manuscript-pub/models/ml_multilabel_20211102/optuna2.db\",\n",
    "    load_if_exists=True,\n",
    ")\n",
    "\n",
    "cnn_study.optimize(\n",
    "    objective, n_trials=N_TRIALS, n_jobs=1, show_progress_bar=True, gc_after_trial=False\n",
    ")"
   ]
  },
  {
   "cell_type": "markdown",
   "id": "170a9feb",
   "metadata": {
    "papermill": {
     "duration": 0.05077,
     "end_time": "2021-11-03T01:29:30.283770",
     "exception": false,
     "start_time": "2021-11-03T01:29:30.233000",
     "status": "completed"
    },
    "tags": []
   },
   "source": [
    "# Train Models"
   ]
  },
  {
   "cell_type": "code",
   "execution_count": 22,
   "id": "f19a74f6-cce8-405f-b35f-95d710e02613",
   "metadata": {
    "papermill": {
     "duration": 19.044727,
     "end_time": "2021-11-03T01:29:49.378763",
     "exception": false,
     "start_time": "2021-11-03T01:29:30.334036",
     "status": "completed"
    },
    "tags": []
   },
   "outputs": [],
   "source": [
    "rf_model = OneVsRestClassifier(\n",
    "    make_pipeline(\n",
    "        StandardScaler(),\n",
    "        XGBRFClassifier(\n",
    "            **rf_study.best_params,\n",
    "            use_label_encoder=False,\n",
    "            eval_metric=\"logloss\",  # set to hide warning\n",
    "        ),\n",
    "    )\n",
    ")\n",
    "\n",
    "rf_model.fit(X_train.numpy(), y_train.numpy())\n",
    "pickle.dump(rf_model, open(f\"{model_dir}/rf_model2.pkl\", \"wb\"))"
   ]
  },
  {
   "cell_type": "code",
   "execution_count": 23,
   "id": "d7f06d06-35d8-495c-9d9e-07cf7200a803",
   "metadata": {
    "papermill": {
     "duration": 13.856152,
     "end_time": "2021-11-03T01:30:03.291390",
     "exception": false,
     "start_time": "2021-11-03T01:29:49.435238",
     "status": "completed"
    },
    "tags": []
   },
   "outputs": [],
   "source": [
    "svc_model = OneVsRestClassifier(\n",
    "    make_pipeline(\n",
    "        StandardScaler(),\n",
    "        SVC(\n",
    "            **svc_study.best_params,\n",
    "            probability=True,\n",
    "        ),\n",
    "    )\n",
    ")\n",
    "\n",
    "svc_model.fit(X_train.numpy(), y_train.numpy())\n",
    "pickle.dump(svc_model, open(f\"{model_dir}/svc_model2.pkl\", \"wb\"))"
   ]
  },
  {
   "cell_type": "code",
   "execution_count": null,
   "id": "de7cf298-d15e-4bd6-9ac9-f73c619d516b",
   "metadata": {
    "papermill": {
     "duration": 19.753184,
     "end_time": "2021-11-03T01:30:23.098301",
     "exception": false,
     "start_time": "2021-11-03T01:30:03.345117",
     "status": "completed"
    },
    "tags": []
   },
   "outputs": [],
   "source": [
    "# Train on 80%, 20% validation for early stopping\n",
    "nn_model = OneVsRestClassifier(\n",
    "    make_pipeline(\n",
    "        StandardScaler(),\n",
    "        NeuralNetClassifier(\n",
    "            module=FCModule,\n",
    "            **nn_study.best_params,\n",
    "            callbacks=[EarlyStopping(monitor=\"valid_loss\", patience=20)],\n",
    "            optimizer=torch.optim.Adam,\n",
    "            max_epochs=NN_MAX_EPOCHS,\n",
    "            device=\"cuda\",\n",
    "            verbose=False,\n",
    "        ),\n",
    "    ),\n",
    ")\n",
    "\n",
    "nn_model.fit(X_train, y_train)\n",
    "pickle.dump(nn_model, open(f\"{model_dir}/nn_model2.pkl\", \"wb\"))"
   ]
  },
  {
   "cell_type": "code",
   "execution_count": null,
   "id": "7f9d1b00-4331-4e17-ac95-f210e02ee30c",
   "metadata": {},
   "outputs": [],
   "source": []
  },
  {
   "cell_type": "code",
   "execution_count": null,
   "id": "f6752e2a-7f74-42e1-b051-0d173b22ef58",
   "metadata": {},
   "outputs": [],
   "source": []
  },
  {
   "cell_type": "code",
   "execution_count": null,
   "id": "329b3643-f5d0-48b5-9bf4-398d484eada2",
   "metadata": {},
   "outputs": [],
   "source": []
  },
  {
   "cell_type": "code",
   "execution_count": null,
   "id": "89bc78e1-87b8-41dc-b097-b471dc872e18",
   "metadata": {
    "papermill": {
     "duration": 58.080154,
     "end_time": "2021-11-03T01:31:21.231026",
     "exception": false,
     "start_time": "2021-11-03T01:30:23.150872",
     "status": "completed"
    },
    "tags": []
   },
   "outputs": [],
   "source": [
    "# Train on 80%, 20% validation for early stopping\n",
    "cnn_model = OneVsRestClassifier(\n",
    "    NeuralNetClassifier(\n",
    "        module=SpotsBinaryModule,\n",
    "        **cnn_study.best_params,\n",
    "        module__n_conv_layers=2,\n",
    "        module__in_dim=64,\n",
    "        module__kernel_size=3,\n",
    "        callbacks=[EarlyStopping(monitor=\"valid_loss\", patience=20)],\n",
    "        optimizer=torch.optim.Adam,\n",
    "        max_epochs=CNN_MAX_EPOCHS,\n",
    "        device=\"cuda\",\n",
    "        verbose=False,\n",
    "    ),\n",
    ")\n",
    "\n",
    "cnn_model.fit(X_img_train, y_img_train)\n",
    "pickle.dump(cnn_model, open(f\"{model_dir}/cnn_model2.pkl\", \"wb\"))"
   ]
  }
 ],
 "metadata": {
  "kernelspec": {
   "display_name": "Python (bento)",
   "language": "python",
   "name": "bento"
  },
  "language_info": {
   "codemirror_mode": {
    "name": "ipython",
    "version": 3
   },
   "file_extension": ".py",
   "mimetype": "text/x-python",
   "name": "python",
   "nbconvert_exporter": "python",
   "pygments_lexer": "ipython3",
   "version": "3.8.20"
  },
  "papermill": {
   "default_parameters": {},
   "duration": 25842.494898,
   "end_time": "2021-11-03T01:31:24.012673",
   "environment_variables": {},
   "exception": null,
   "input_path": "Multilabel_Training_CM_20211101.ipynb",
   "output_path": "nb_output/Multilabel_Training_CM_20211101.ipynb",
   "parameters": {
    "CNN_MAX_EPOCHS": 200,
    "DATE": 20211102,
    "NN_MAX_EPOCHS": 100,
    "N_TRIALS": 50
   },
   "start_time": "2021-11-02T18:20:41.517775",
   "version": "2.3.3"
  },
  "toc-autonumbering": true,
  "widgets": {
   "application/vnd.jupyter.widget-state+json": {
    "state": {
     "0a8d8460537649dd9843d4cb8291b9fa": {
      "model_module": "@jupyter-widgets/controls",
      "model_module_version": "1.5.0",
      "model_name": "HBoxModel",
      "state": {
       "_dom_classes": [],
       "_model_module": "@jupyter-widgets/controls",
       "_model_module_version": "1.5.0",
       "_model_name": "HBoxModel",
       "_view_count": null,
       "_view_module": "@jupyter-widgets/controls",
       "_view_module_version": "1.5.0",
       "_view_name": "HBoxView",
       "box_style": "",
       "children": [
        "IPY_MODEL_bb26775d70b249f2b7ad234b0b365169",
        "IPY_MODEL_860c315c8ef041178fb3a2f47ec37b25",
        "IPY_MODEL_8810a86b4236419abb1669792c3fa297"
       ],
       "layout": "IPY_MODEL_ee7349f17f614e16a48978927db923c5"
      }
     },
     "0b134190e6514aab8ad83e9499d27c65": {
      "model_module": "@jupyter-widgets/controls",
      "model_module_version": "1.5.0",
      "model_name": "DescriptionStyleModel",
      "state": {
       "_model_module": "@jupyter-widgets/controls",
       "_model_module_version": "1.5.0",
       "_model_name": "DescriptionStyleModel",
       "_view_count": null,
       "_view_module": "@jupyter-widgets/base",
       "_view_module_version": "1.2.0",
       "_view_name": "StyleView",
       "description_width": ""
      }
     },
     "0b7a53f1c1cc46a9954f9ea360382229": {
      "model_module": "@jupyter-widgets/controls",
      "model_module_version": "1.5.0",
      "model_name": "DescriptionStyleModel",
      "state": {
       "_model_module": "@jupyter-widgets/controls",
       "_model_module_version": "1.5.0",
       "_model_name": "DescriptionStyleModel",
       "_view_count": null,
       "_view_module": "@jupyter-widgets/base",
       "_view_module_version": "1.2.0",
       "_view_name": "StyleView",
       "description_width": ""
      }
     },
     "10379c21c29f44d88103084068bc3173": {
      "model_module": "@jupyter-widgets/base",
      "model_module_version": "1.2.0",
      "model_name": "LayoutModel",
      "state": {
       "_model_module": "@jupyter-widgets/base",
       "_model_module_version": "1.2.0",
       "_model_name": "LayoutModel",
       "_view_count": null,
       "_view_module": "@jupyter-widgets/base",
       "_view_module_version": "1.2.0",
       "_view_name": "LayoutView",
       "align_content": null,
       "align_items": null,
       "align_self": null,
       "border": null,
       "bottom": null,
       "display": null,
       "flex": null,
       "flex_flow": null,
       "grid_area": null,
       "grid_auto_columns": null,
       "grid_auto_flow": null,
       "grid_auto_rows": null,
       "grid_column": null,
       "grid_gap": null,
       "grid_row": null,
       "grid_template_areas": null,
       "grid_template_columns": null,
       "grid_template_rows": null,
       "height": null,
       "justify_content": null,
       "justify_items": null,
       "left": null,
       "margin": null,
       "max_height": null,
       "max_width": null,
       "min_height": null,
       "min_width": null,
       "object_fit": null,
       "object_position": null,
       "order": null,
       "overflow": null,
       "overflow_x": null,
       "overflow_y": null,
       "padding": null,
       "right": null,
       "top": null,
       "visibility": null,
       "width": null
      }
     },
     "142d1e240ae0465ba1476a3bc3e4f3a5": {
      "model_module": "@jupyter-widgets/controls",
      "model_module_version": "1.5.0",
      "model_name": "DescriptionStyleModel",
      "state": {
       "_model_module": "@jupyter-widgets/controls",
       "_model_module_version": "1.5.0",
       "_model_name": "DescriptionStyleModel",
       "_view_count": null,
       "_view_module": "@jupyter-widgets/base",
       "_view_module_version": "1.2.0",
       "_view_name": "StyleView",
       "description_width": ""
      }
     },
     "1a95b189f2c345fa895a4a57cdd01390": {
      "model_module": "@jupyter-widgets/base",
      "model_module_version": "1.2.0",
      "model_name": "LayoutModel",
      "state": {
       "_model_module": "@jupyter-widgets/base",
       "_model_module_version": "1.2.0",
       "_model_name": "LayoutModel",
       "_view_count": null,
       "_view_module": "@jupyter-widgets/base",
       "_view_module_version": "1.2.0",
       "_view_name": "LayoutView",
       "align_content": null,
       "align_items": null,
       "align_self": null,
       "border": null,
       "bottom": null,
       "display": null,
       "flex": null,
       "flex_flow": null,
       "grid_area": null,
       "grid_auto_columns": null,
       "grid_auto_flow": null,
       "grid_auto_rows": null,
       "grid_column": null,
       "grid_gap": null,
       "grid_row": null,
       "grid_template_areas": null,
       "grid_template_columns": null,
       "grid_template_rows": null,
       "height": null,
       "justify_content": null,
       "justify_items": null,
       "left": null,
       "margin": null,
       "max_height": null,
       "max_width": null,
       "min_height": null,
       "min_width": null,
       "object_fit": null,
       "object_position": null,
       "order": null,
       "overflow": null,
       "overflow_x": null,
       "overflow_y": null,
       "padding": null,
       "right": null,
       "top": null,
       "visibility": null,
       "width": null
      }
     },
     "2251a18f7923445f8ac04154ca68f554": {
      "model_module": "@jupyter-widgets/controls",
      "model_module_version": "1.5.0",
      "model_name": "ProgressStyleModel",
      "state": {
       "_model_module": "@jupyter-widgets/controls",
       "_model_module_version": "1.5.0",
       "_model_name": "ProgressStyleModel",
       "_view_count": null,
       "_view_module": "@jupyter-widgets/base",
       "_view_module_version": "1.2.0",
       "_view_name": "StyleView",
       "bar_color": null,
       "description_width": ""
      }
     },
     "22cb368bc7e047a3b87947aa2d48c740": {
      "model_module": "@jupyter-widgets/controls",
      "model_module_version": "1.5.0",
      "model_name": "DescriptionStyleModel",
      "state": {
       "_model_module": "@jupyter-widgets/controls",
       "_model_module_version": "1.5.0",
       "_model_name": "DescriptionStyleModel",
       "_view_count": null,
       "_view_module": "@jupyter-widgets/base",
       "_view_module_version": "1.2.0",
       "_view_name": "StyleView",
       "description_width": ""
      }
     },
     "2f2e043f8e724ccc8043de8124153f66": {
      "model_module": "@jupyter-widgets/controls",
      "model_module_version": "1.5.0",
      "model_name": "HBoxModel",
      "state": {
       "_dom_classes": [],
       "_model_module": "@jupyter-widgets/controls",
       "_model_module_version": "1.5.0",
       "_model_name": "HBoxModel",
       "_view_count": null,
       "_view_module": "@jupyter-widgets/controls",
       "_view_module_version": "1.5.0",
       "_view_name": "HBoxView",
       "box_style": "",
       "children": [
        "IPY_MODEL_e3310d5b61434d2ea943467206fe6770",
        "IPY_MODEL_c0cd846d1d5f481f8d18ee7f77d1bbea",
        "IPY_MODEL_f59f4a391709479fb2d85c7bd990153a"
       ],
       "layout": "IPY_MODEL_693eb06c27b84ec2b2f54450bb34945b"
      }
     },
     "3595d628768248e0a2248676976b4778": {
      "model_module": "@jupyter-widgets/controls",
      "model_module_version": "1.5.0",
      "model_name": "DescriptionStyleModel",
      "state": {
       "_model_module": "@jupyter-widgets/controls",
       "_model_module_version": "1.5.0",
       "_model_name": "DescriptionStyleModel",
       "_view_count": null,
       "_view_module": "@jupyter-widgets/base",
       "_view_module_version": "1.2.0",
       "_view_name": "StyleView",
       "description_width": ""
      }
     },
     "3946100bf40c412985a21739143da61f": {
      "model_module": "@jupyter-widgets/base",
      "model_module_version": "1.2.0",
      "model_name": "LayoutModel",
      "state": {
       "_model_module": "@jupyter-widgets/base",
       "_model_module_version": "1.2.0",
       "_model_name": "LayoutModel",
       "_view_count": null,
       "_view_module": "@jupyter-widgets/base",
       "_view_module_version": "1.2.0",
       "_view_name": "LayoutView",
       "align_content": null,
       "align_items": null,
       "align_self": null,
       "border": null,
       "bottom": null,
       "display": null,
       "flex": null,
       "flex_flow": null,
       "grid_area": null,
       "grid_auto_columns": null,
       "grid_auto_flow": null,
       "grid_auto_rows": null,
       "grid_column": null,
       "grid_gap": null,
       "grid_row": null,
       "grid_template_areas": null,
       "grid_template_columns": null,
       "grid_template_rows": null,
       "height": null,
       "justify_content": null,
       "justify_items": null,
       "left": null,
       "margin": null,
       "max_height": null,
       "max_width": null,
       "min_height": null,
       "min_width": null,
       "object_fit": null,
       "object_position": null,
       "order": null,
       "overflow": null,
       "overflow_x": null,
       "overflow_y": null,
       "padding": null,
       "right": null,
       "top": null,
       "visibility": null,
       "width": null
      }
     },
     "3eac82035d6142f4857734a442268d25": {
      "model_module": "@jupyter-widgets/base",
      "model_module_version": "1.2.0",
      "model_name": "LayoutModel",
      "state": {
       "_model_module": "@jupyter-widgets/base",
       "_model_module_version": "1.2.0",
       "_model_name": "LayoutModel",
       "_view_count": null,
       "_view_module": "@jupyter-widgets/base",
       "_view_module_version": "1.2.0",
       "_view_name": "LayoutView",
       "align_content": null,
       "align_items": null,
       "align_self": null,
       "border": null,
       "bottom": null,
       "display": null,
       "flex": null,
       "flex_flow": null,
       "grid_area": null,
       "grid_auto_columns": null,
       "grid_auto_flow": null,
       "grid_auto_rows": null,
       "grid_column": null,
       "grid_gap": null,
       "grid_row": null,
       "grid_template_areas": null,
       "grid_template_columns": null,
       "grid_template_rows": null,
       "height": null,
       "justify_content": null,
       "justify_items": null,
       "left": null,
       "margin": null,
       "max_height": null,
       "max_width": null,
       "min_height": null,
       "min_width": null,
       "object_fit": null,
       "object_position": null,
       "order": null,
       "overflow": null,
       "overflow_x": null,
       "overflow_y": null,
       "padding": null,
       "right": null,
       "top": null,
       "visibility": null,
       "width": null
      }
     },
     "5f003b9f343d4248b42667ce1856305f": {
      "model_module": "@jupyter-widgets/base",
      "model_module_version": "1.2.0",
      "model_name": "LayoutModel",
      "state": {
       "_model_module": "@jupyter-widgets/base",
       "_model_module_version": "1.2.0",
       "_model_name": "LayoutModel",
       "_view_count": null,
       "_view_module": "@jupyter-widgets/base",
       "_view_module_version": "1.2.0",
       "_view_name": "LayoutView",
       "align_content": null,
       "align_items": null,
       "align_self": null,
       "border": null,
       "bottom": null,
       "display": null,
       "flex": null,
       "flex_flow": null,
       "grid_area": null,
       "grid_auto_columns": null,
       "grid_auto_flow": null,
       "grid_auto_rows": null,
       "grid_column": null,
       "grid_gap": null,
       "grid_row": null,
       "grid_template_areas": null,
       "grid_template_columns": null,
       "grid_template_rows": null,
       "height": null,
       "justify_content": null,
       "justify_items": null,
       "left": null,
       "margin": null,
       "max_height": null,
       "max_width": null,
       "min_height": null,
       "min_width": null,
       "object_fit": null,
       "object_position": null,
       "order": null,
       "overflow": null,
       "overflow_x": null,
       "overflow_y": null,
       "padding": null,
       "right": null,
       "top": null,
       "visibility": null,
       "width": null
      }
     },
     "612364cf04684439be219bd96cb53299": {
      "model_module": "@jupyter-widgets/base",
      "model_module_version": "1.2.0",
      "model_name": "LayoutModel",
      "state": {
       "_model_module": "@jupyter-widgets/base",
       "_model_module_version": "1.2.0",
       "_model_name": "LayoutModel",
       "_view_count": null,
       "_view_module": "@jupyter-widgets/base",
       "_view_module_version": "1.2.0",
       "_view_name": "LayoutView",
       "align_content": null,
       "align_items": null,
       "align_self": null,
       "border": null,
       "bottom": null,
       "display": null,
       "flex": null,
       "flex_flow": null,
       "grid_area": null,
       "grid_auto_columns": null,
       "grid_auto_flow": null,
       "grid_auto_rows": null,
       "grid_column": null,
       "grid_gap": null,
       "grid_row": null,
       "grid_template_areas": null,
       "grid_template_columns": null,
       "grid_template_rows": null,
       "height": null,
       "justify_content": null,
       "justify_items": null,
       "left": null,
       "margin": null,
       "max_height": null,
       "max_width": null,
       "min_height": null,
       "min_width": null,
       "object_fit": null,
       "object_position": null,
       "order": null,
       "overflow": null,
       "overflow_x": null,
       "overflow_y": null,
       "padding": null,
       "right": null,
       "top": null,
       "visibility": null,
       "width": null
      }
     },
     "693eb06c27b84ec2b2f54450bb34945b": {
      "model_module": "@jupyter-widgets/base",
      "model_module_version": "1.2.0",
      "model_name": "LayoutModel",
      "state": {
       "_model_module": "@jupyter-widgets/base",
       "_model_module_version": "1.2.0",
       "_model_name": "LayoutModel",
       "_view_count": null,
       "_view_module": "@jupyter-widgets/base",
       "_view_module_version": "1.2.0",
       "_view_name": "LayoutView",
       "align_content": null,
       "align_items": null,
       "align_self": null,
       "border": null,
       "bottom": null,
       "display": null,
       "flex": null,
       "flex_flow": null,
       "grid_area": null,
       "grid_auto_columns": null,
       "grid_auto_flow": null,
       "grid_auto_rows": null,
       "grid_column": null,
       "grid_gap": null,
       "grid_row": null,
       "grid_template_areas": null,
       "grid_template_columns": null,
       "grid_template_rows": null,
       "height": null,
       "justify_content": null,
       "justify_items": null,
       "left": null,
       "margin": null,
       "max_height": null,
       "max_width": null,
       "min_height": null,
       "min_width": null,
       "object_fit": null,
       "object_position": null,
       "order": null,
       "overflow": null,
       "overflow_x": null,
       "overflow_y": null,
       "padding": null,
       "right": null,
       "top": null,
       "visibility": null,
       "width": null
      }
     },
     "719b3833da2145a7a26762566c70886f": {
      "model_module": "@jupyter-widgets/base",
      "model_module_version": "1.2.0",
      "model_name": "LayoutModel",
      "state": {
       "_model_module": "@jupyter-widgets/base",
       "_model_module_version": "1.2.0",
       "_model_name": "LayoutModel",
       "_view_count": null,
       "_view_module": "@jupyter-widgets/base",
       "_view_module_version": "1.2.0",
       "_view_name": "LayoutView",
       "align_content": null,
       "align_items": null,
       "align_self": null,
       "border": null,
       "bottom": null,
       "display": null,
       "flex": null,
       "flex_flow": null,
       "grid_area": null,
       "grid_auto_columns": null,
       "grid_auto_flow": null,
       "grid_auto_rows": null,
       "grid_column": null,
       "grid_gap": null,
       "grid_row": null,
       "grid_template_areas": null,
       "grid_template_columns": null,
       "grid_template_rows": null,
       "height": null,
       "justify_content": null,
       "justify_items": null,
       "left": null,
       "margin": null,
       "max_height": null,
       "max_width": null,
       "min_height": null,
       "min_width": null,
       "object_fit": null,
       "object_position": null,
       "order": null,
       "overflow": null,
       "overflow_x": null,
       "overflow_y": null,
       "padding": null,
       "right": null,
       "top": null,
       "visibility": null,
       "width": null
      }
     },
     "7977273857304d8b980241109c89390f": {
      "model_module": "@jupyter-widgets/base",
      "model_module_version": "1.2.0",
      "model_name": "LayoutModel",
      "state": {
       "_model_module": "@jupyter-widgets/base",
       "_model_module_version": "1.2.0",
       "_model_name": "LayoutModel",
       "_view_count": null,
       "_view_module": "@jupyter-widgets/base",
       "_view_module_version": "1.2.0",
       "_view_name": "LayoutView",
       "align_content": null,
       "align_items": null,
       "align_self": null,
       "border": null,
       "bottom": null,
       "display": null,
       "flex": null,
       "flex_flow": null,
       "grid_area": null,
       "grid_auto_columns": null,
       "grid_auto_flow": null,
       "grid_auto_rows": null,
       "grid_column": null,
       "grid_gap": null,
       "grid_row": null,
       "grid_template_areas": null,
       "grid_template_columns": null,
       "grid_template_rows": null,
       "height": null,
       "justify_content": null,
       "justify_items": null,
       "left": null,
       "margin": null,
       "max_height": null,
       "max_width": null,
       "min_height": null,
       "min_width": null,
       "object_fit": null,
       "object_position": null,
       "order": null,
       "overflow": null,
       "overflow_x": null,
       "overflow_y": null,
       "padding": null,
       "right": null,
       "top": null,
       "visibility": null,
       "width": null
      }
     },
     "8194850461f940d6a44aad94d83eff99": {
      "model_module": "@jupyter-widgets/base",
      "model_module_version": "1.2.0",
      "model_name": "LayoutModel",
      "state": {
       "_model_module": "@jupyter-widgets/base",
       "_model_module_version": "1.2.0",
       "_model_name": "LayoutModel",
       "_view_count": null,
       "_view_module": "@jupyter-widgets/base",
       "_view_module_version": "1.2.0",
       "_view_name": "LayoutView",
       "align_content": null,
       "align_items": null,
       "align_self": null,
       "border": null,
       "bottom": null,
       "display": null,
       "flex": null,
       "flex_flow": null,
       "grid_area": null,
       "grid_auto_columns": null,
       "grid_auto_flow": null,
       "grid_auto_rows": null,
       "grid_column": null,
       "grid_gap": null,
       "grid_row": null,
       "grid_template_areas": null,
       "grid_template_columns": null,
       "grid_template_rows": null,
       "height": null,
       "justify_content": null,
       "justify_items": null,
       "left": null,
       "margin": null,
       "max_height": null,
       "max_width": null,
       "min_height": null,
       "min_width": null,
       "object_fit": null,
       "object_position": null,
       "order": null,
       "overflow": null,
       "overflow_x": null,
       "overflow_y": null,
       "padding": null,
       "right": null,
       "top": null,
       "visibility": null,
       "width": null
      }
     },
     "839d0da77663408590c078b80ec67495": {
      "model_module": "@jupyter-widgets/controls",
      "model_module_version": "1.5.0",
      "model_name": "ProgressStyleModel",
      "state": {
       "_model_module": "@jupyter-widgets/controls",
       "_model_module_version": "1.5.0",
       "_model_name": "ProgressStyleModel",
       "_view_count": null,
       "_view_module": "@jupyter-widgets/base",
       "_view_module_version": "1.2.0",
       "_view_name": "StyleView",
       "bar_color": null,
       "description_width": ""
      }
     },
     "842bfb5062b5496ca2c3411cec0264f2": {
      "model_module": "@jupyter-widgets/controls",
      "model_module_version": "1.5.0",
      "model_name": "HBoxModel",
      "state": {
       "_dom_classes": [],
       "_model_module": "@jupyter-widgets/controls",
       "_model_module_version": "1.5.0",
       "_model_name": "HBoxModel",
       "_view_count": null,
       "_view_module": "@jupyter-widgets/controls",
       "_view_module_version": "1.5.0",
       "_view_name": "HBoxView",
       "box_style": "",
       "children": [
        "IPY_MODEL_97c8a92048ac46f29e23f65b6362e79c",
        "IPY_MODEL_b75a14ca9a064c43845d087b197b9df6",
        "IPY_MODEL_aff655e4055948f88bb71529074e592d"
       ],
       "layout": "IPY_MODEL_eceed1124cf64e7aa81fe785599b2b81"
      }
     },
     "860c315c8ef041178fb3a2f47ec37b25": {
      "model_module": "@jupyter-widgets/controls",
      "model_module_version": "1.5.0",
      "model_name": "FloatProgressModel",
      "state": {
       "_dom_classes": [],
       "_model_module": "@jupyter-widgets/controls",
       "_model_module_version": "1.5.0",
       "_model_name": "FloatProgressModel",
       "_view_count": null,
       "_view_module": "@jupyter-widgets/controls",
       "_view_module_version": "1.5.0",
       "_view_name": "ProgressView",
       "bar_style": "success",
       "description": "",
       "description_tooltip": null,
       "layout": "IPY_MODEL_aeef6f7293354635aca6765db5c0e1a8",
       "max": 50,
       "min": 0,
       "orientation": "horizontal",
       "style": "IPY_MODEL_acd9adb675884aab91d541099267aaf0",
       "value": 50
      }
     },
     "8810a86b4236419abb1669792c3fa297": {
      "model_module": "@jupyter-widgets/controls",
      "model_module_version": "1.5.0",
      "model_name": "HTMLModel",
      "state": {
       "_dom_classes": [],
       "_model_module": "@jupyter-widgets/controls",
       "_model_module_version": "1.5.0",
       "_model_name": "HTMLModel",
       "_view_count": null,
       "_view_module": "@jupyter-widgets/controls",
       "_view_module_version": "1.5.0",
       "_view_name": "HTMLView",
       "description": "",
       "description_tooltip": null,
       "layout": "IPY_MODEL_a45d75361140471cab19aafc46709920",
       "placeholder": "​",
       "style": "IPY_MODEL_0b7a53f1c1cc46a9954f9ea360382229",
       "value": " 50/50 [36:00&lt;00:00, 35.59s/it]"
      }
     },
     "97c8a92048ac46f29e23f65b6362e79c": {
      "model_module": "@jupyter-widgets/controls",
      "model_module_version": "1.5.0",
      "model_name": "HTMLModel",
      "state": {
       "_dom_classes": [],
       "_model_module": "@jupyter-widgets/controls",
       "_model_module_version": "1.5.0",
       "_model_name": "HTMLModel",
       "_view_count": null,
       "_view_module": "@jupyter-widgets/controls",
       "_view_module_version": "1.5.0",
       "_view_name": "HTMLView",
       "description": "",
       "description_tooltip": null,
       "layout": "IPY_MODEL_5f003b9f343d4248b42667ce1856305f",
       "placeholder": "​",
       "style": "IPY_MODEL_3595d628768248e0a2248676976b4778",
       "value": "100%"
      }
     },
     "98763d85ed944336ab4a452a29ce0c6b": {
      "model_module": "@jupyter-widgets/controls",
      "model_module_version": "1.5.0",
      "model_name": "ProgressStyleModel",
      "state": {
       "_model_module": "@jupyter-widgets/controls",
       "_model_module_version": "1.5.0",
       "_model_name": "ProgressStyleModel",
       "_view_count": null,
       "_view_module": "@jupyter-widgets/base",
       "_view_module_version": "1.2.0",
       "_view_name": "StyleView",
       "bar_color": null,
       "description_width": ""
      }
     },
     "a238e150970b41b7be28f20c35b598e9": {
      "model_module": "@jupyter-widgets/base",
      "model_module_version": "1.2.0",
      "model_name": "LayoutModel",
      "state": {
       "_model_module": "@jupyter-widgets/base",
       "_model_module_version": "1.2.0",
       "_model_name": "LayoutModel",
       "_view_count": null,
       "_view_module": "@jupyter-widgets/base",
       "_view_module_version": "1.2.0",
       "_view_name": "LayoutView",
       "align_content": null,
       "align_items": null,
       "align_self": null,
       "border": null,
       "bottom": null,
       "display": null,
       "flex": null,
       "flex_flow": null,
       "grid_area": null,
       "grid_auto_columns": null,
       "grid_auto_flow": null,
       "grid_auto_rows": null,
       "grid_column": null,
       "grid_gap": null,
       "grid_row": null,
       "grid_template_areas": null,
       "grid_template_columns": null,
       "grid_template_rows": null,
       "height": null,
       "justify_content": null,
       "justify_items": null,
       "left": null,
       "margin": null,
       "max_height": null,
       "max_width": null,
       "min_height": null,
       "min_width": null,
       "object_fit": null,
       "object_position": null,
       "order": null,
       "overflow": null,
       "overflow_x": null,
       "overflow_y": null,
       "padding": null,
       "right": null,
       "top": null,
       "visibility": null,
       "width": null
      }
     },
     "a45d75361140471cab19aafc46709920": {
      "model_module": "@jupyter-widgets/base",
      "model_module_version": "1.2.0",
      "model_name": "LayoutModel",
      "state": {
       "_model_module": "@jupyter-widgets/base",
       "_model_module_version": "1.2.0",
       "_model_name": "LayoutModel",
       "_view_count": null,
       "_view_module": "@jupyter-widgets/base",
       "_view_module_version": "1.2.0",
       "_view_name": "LayoutView",
       "align_content": null,
       "align_items": null,
       "align_self": null,
       "border": null,
       "bottom": null,
       "display": null,
       "flex": null,
       "flex_flow": null,
       "grid_area": null,
       "grid_auto_columns": null,
       "grid_auto_flow": null,
       "grid_auto_rows": null,
       "grid_column": null,
       "grid_gap": null,
       "grid_row": null,
       "grid_template_areas": null,
       "grid_template_columns": null,
       "grid_template_rows": null,
       "height": null,
       "justify_content": null,
       "justify_items": null,
       "left": null,
       "margin": null,
       "max_height": null,
       "max_width": null,
       "min_height": null,
       "min_width": null,
       "object_fit": null,
       "object_position": null,
       "order": null,
       "overflow": null,
       "overflow_x": null,
       "overflow_y": null,
       "padding": null,
       "right": null,
       "top": null,
       "visibility": null,
       "width": null
      }
     },
     "a7ece9ec1db24a6caeb3071b2e1a7b42": {
      "model_module": "@jupyter-widgets/controls",
      "model_module_version": "1.5.0",
      "model_name": "HTMLModel",
      "state": {
       "_dom_classes": [],
       "_model_module": "@jupyter-widgets/controls",
       "_model_module_version": "1.5.0",
       "_model_name": "HTMLModel",
       "_view_count": null,
       "_view_module": "@jupyter-widgets/controls",
       "_view_module_version": "1.5.0",
       "_view_name": "HTMLView",
       "description": "",
       "description_tooltip": null,
       "layout": "IPY_MODEL_7977273857304d8b980241109c89390f",
       "placeholder": "​",
       "style": "IPY_MODEL_22cb368bc7e047a3b87947aa2d48c740",
       "value": " 50/50 [5:10:17&lt;00:00, 345.58s/it]"
      }
     },
     "acd9adb675884aab91d541099267aaf0": {
      "model_module": "@jupyter-widgets/controls",
      "model_module_version": "1.5.0",
      "model_name": "ProgressStyleModel",
      "state": {
       "_model_module": "@jupyter-widgets/controls",
       "_model_module_version": "1.5.0",
       "_model_name": "ProgressStyleModel",
       "_view_count": null,
       "_view_module": "@jupyter-widgets/base",
       "_view_module_version": "1.2.0",
       "_view_name": "StyleView",
       "bar_color": null,
       "description_width": ""
      }
     },
     "ad95b4cb5c854885a1c97937bf120745": {
      "model_module": "@jupyter-widgets/controls",
      "model_module_version": "1.5.0",
      "model_name": "DescriptionStyleModel",
      "state": {
       "_model_module": "@jupyter-widgets/controls",
       "_model_module_version": "1.5.0",
       "_model_name": "DescriptionStyleModel",
       "_view_count": null,
       "_view_module": "@jupyter-widgets/base",
       "_view_module_version": "1.2.0",
       "_view_name": "StyleView",
       "description_width": ""
      }
     },
     "aeef6f7293354635aca6765db5c0e1a8": {
      "model_module": "@jupyter-widgets/base",
      "model_module_version": "1.2.0",
      "model_name": "LayoutModel",
      "state": {
       "_model_module": "@jupyter-widgets/base",
       "_model_module_version": "1.2.0",
       "_model_name": "LayoutModel",
       "_view_count": null,
       "_view_module": "@jupyter-widgets/base",
       "_view_module_version": "1.2.0",
       "_view_name": "LayoutView",
       "align_content": null,
       "align_items": null,
       "align_self": null,
       "border": null,
       "bottom": null,
       "display": null,
       "flex": null,
       "flex_flow": null,
       "grid_area": null,
       "grid_auto_columns": null,
       "grid_auto_flow": null,
       "grid_auto_rows": null,
       "grid_column": null,
       "grid_gap": null,
       "grid_row": null,
       "grid_template_areas": null,
       "grid_template_columns": null,
       "grid_template_rows": null,
       "height": null,
       "justify_content": null,
       "justify_items": null,
       "left": null,
       "margin": null,
       "max_height": null,
       "max_width": null,
       "min_height": null,
       "min_width": null,
       "object_fit": null,
       "object_position": null,
       "order": null,
       "overflow": null,
       "overflow_x": null,
       "overflow_y": null,
       "padding": null,
       "right": null,
       "top": null,
       "visibility": null,
       "width": null
      }
     },
     "aff655e4055948f88bb71529074e592d": {
      "model_module": "@jupyter-widgets/controls",
      "model_module_version": "1.5.0",
      "model_name": "HTMLModel",
      "state": {
       "_dom_classes": [],
       "_model_module": "@jupyter-widgets/controls",
       "_model_module_version": "1.5.0",
       "_model_name": "HTMLModel",
       "_view_count": null,
       "_view_module": "@jupyter-widgets/controls",
       "_view_module_version": "1.5.0",
       "_view_name": "HTMLView",
       "description": "",
       "description_tooltip": null,
       "layout": "IPY_MODEL_cc80206bdb5342c1af1c32edafb3c3f5",
       "placeholder": "​",
       "style": "IPY_MODEL_fa164db9afc048bdb165159a53246dff",
       "value": " 50/50 [28:29&lt;00:00, 26.82s/it]"
      }
     },
     "b75a14ca9a064c43845d087b197b9df6": {
      "model_module": "@jupyter-widgets/controls",
      "model_module_version": "1.5.0",
      "model_name": "FloatProgressModel",
      "state": {
       "_dom_classes": [],
       "_model_module": "@jupyter-widgets/controls",
       "_model_module_version": "1.5.0",
       "_model_name": "FloatProgressModel",
       "_view_count": null,
       "_view_module": "@jupyter-widgets/controls",
       "_view_module_version": "1.5.0",
       "_view_name": "ProgressView",
       "bar_style": "success",
       "description": "",
       "description_tooltip": null,
       "layout": "IPY_MODEL_10379c21c29f44d88103084068bc3173",
       "max": 50,
       "min": 0,
       "orientation": "horizontal",
       "style": "IPY_MODEL_98763d85ed944336ab4a452a29ce0c6b",
       "value": 50
      }
     },
     "bb26775d70b249f2b7ad234b0b365169": {
      "model_module": "@jupyter-widgets/controls",
      "model_module_version": "1.5.0",
      "model_name": "HTMLModel",
      "state": {
       "_dom_classes": [],
       "_model_module": "@jupyter-widgets/controls",
       "_model_module_version": "1.5.0",
       "_model_name": "HTMLModel",
       "_view_count": null,
       "_view_module": "@jupyter-widgets/controls",
       "_view_module_version": "1.5.0",
       "_view_name": "HTMLView",
       "description": "",
       "description_tooltip": null,
       "layout": "IPY_MODEL_a238e150970b41b7be28f20c35b598e9",
       "placeholder": "​",
       "style": "IPY_MODEL_0b134190e6514aab8ad83e9499d27c65",
       "value": "100%"
      }
     },
     "c0cd846d1d5f481f8d18ee7f77d1bbea": {
      "model_module": "@jupyter-widgets/controls",
      "model_module_version": "1.5.0",
      "model_name": "FloatProgressModel",
      "state": {
       "_dom_classes": [],
       "_model_module": "@jupyter-widgets/controls",
       "_model_module_version": "1.5.0",
       "_model_name": "FloatProgressModel",
       "_view_count": null,
       "_view_module": "@jupyter-widgets/controls",
       "_view_module_version": "1.5.0",
       "_view_name": "ProgressView",
       "bar_style": "success",
       "description": "",
       "description_tooltip": null,
       "layout": "IPY_MODEL_8194850461f940d6a44aad94d83eff99",
       "max": 50,
       "min": 0,
       "orientation": "horizontal",
       "style": "IPY_MODEL_2251a18f7923445f8ac04154ca68f554",
       "value": 50
      }
     },
     "cc80206bdb5342c1af1c32edafb3c3f5": {
      "model_module": "@jupyter-widgets/base",
      "model_module_version": "1.2.0",
      "model_name": "LayoutModel",
      "state": {
       "_model_module": "@jupyter-widgets/base",
       "_model_module_version": "1.2.0",
       "_model_name": "LayoutModel",
       "_view_count": null,
       "_view_module": "@jupyter-widgets/base",
       "_view_module_version": "1.2.0",
       "_view_name": "LayoutView",
       "align_content": null,
       "align_items": null,
       "align_self": null,
       "border": null,
       "bottom": null,
       "display": null,
       "flex": null,
       "flex_flow": null,
       "grid_area": null,
       "grid_auto_columns": null,
       "grid_auto_flow": null,
       "grid_auto_rows": null,
       "grid_column": null,
       "grid_gap": null,
       "grid_row": null,
       "grid_template_areas": null,
       "grid_template_columns": null,
       "grid_template_rows": null,
       "height": null,
       "justify_content": null,
       "justify_items": null,
       "left": null,
       "margin": null,
       "max_height": null,
       "max_width": null,
       "min_height": null,
       "min_width": null,
       "object_fit": null,
       "object_position": null,
       "order": null,
       "overflow": null,
       "overflow_x": null,
       "overflow_y": null,
       "padding": null,
       "right": null,
       "top": null,
       "visibility": null,
       "width": null
      }
     },
     "d57be81894b747d7be6f3ddf4aa5e10a": {
      "model_module": "@jupyter-widgets/controls",
      "model_module_version": "1.5.0",
      "model_name": "HTMLModel",
      "state": {
       "_dom_classes": [],
       "_model_module": "@jupyter-widgets/controls",
       "_model_module_version": "1.5.0",
       "_model_name": "HTMLModel",
       "_view_count": null,
       "_view_module": "@jupyter-widgets/controls",
       "_view_module_version": "1.5.0",
       "_view_name": "HTMLView",
       "description": "",
       "description_tooltip": null,
       "layout": "IPY_MODEL_1a95b189f2c345fa895a4a57cdd01390",
       "placeholder": "​",
       "style": "IPY_MODEL_ad95b4cb5c854885a1c97937bf120745",
       "value": "100%"
      }
     },
     "e3310d5b61434d2ea943467206fe6770": {
      "model_module": "@jupyter-widgets/controls",
      "model_module_version": "1.5.0",
      "model_name": "HTMLModel",
      "state": {
       "_dom_classes": [],
       "_model_module": "@jupyter-widgets/controls",
       "_model_module_version": "1.5.0",
       "_model_name": "HTMLModel",
       "_view_count": null,
       "_view_module": "@jupyter-widgets/controls",
       "_view_module_version": "1.5.0",
       "_view_name": "HTMLView",
       "description": "",
       "description_tooltip": null,
       "layout": "IPY_MODEL_3eac82035d6142f4857734a442268d25",
       "placeholder": "​",
       "style": "IPY_MODEL_e81c86fdac8c491d84712d79044c1a28",
       "value": "100%"
      }
     },
     "e81c86fdac8c491d84712d79044c1a28": {
      "model_module": "@jupyter-widgets/controls",
      "model_module_version": "1.5.0",
      "model_name": "DescriptionStyleModel",
      "state": {
       "_model_module": "@jupyter-widgets/controls",
       "_model_module_version": "1.5.0",
       "_model_name": "DescriptionStyleModel",
       "_view_count": null,
       "_view_module": "@jupyter-widgets/base",
       "_view_module_version": "1.2.0",
       "_view_name": "StyleView",
       "description_width": ""
      }
     },
     "ec0d5248bccf4f3aa616b946b82da04f": {
      "model_module": "@jupyter-widgets/controls",
      "model_module_version": "1.5.0",
      "model_name": "HBoxModel",
      "state": {
       "_dom_classes": [],
       "_model_module": "@jupyter-widgets/controls",
       "_model_module_version": "1.5.0",
       "_model_name": "HBoxModel",
       "_view_count": null,
       "_view_module": "@jupyter-widgets/controls",
       "_view_module_version": "1.5.0",
       "_view_name": "HBoxView",
       "box_style": "",
       "children": [
        "IPY_MODEL_d57be81894b747d7be6f3ddf4aa5e10a",
        "IPY_MODEL_fd919cc91a2e4bc5aa1b77d5f4126d5c",
        "IPY_MODEL_a7ece9ec1db24a6caeb3071b2e1a7b42"
       ],
       "layout": "IPY_MODEL_3946100bf40c412985a21739143da61f"
      }
     },
     "eceed1124cf64e7aa81fe785599b2b81": {
      "model_module": "@jupyter-widgets/base",
      "model_module_version": "1.2.0",
      "model_name": "LayoutModel",
      "state": {
       "_model_module": "@jupyter-widgets/base",
       "_model_module_version": "1.2.0",
       "_model_name": "LayoutModel",
       "_view_count": null,
       "_view_module": "@jupyter-widgets/base",
       "_view_module_version": "1.2.0",
       "_view_name": "LayoutView",
       "align_content": null,
       "align_items": null,
       "align_self": null,
       "border": null,
       "bottom": null,
       "display": null,
       "flex": null,
       "flex_flow": null,
       "grid_area": null,
       "grid_auto_columns": null,
       "grid_auto_flow": null,
       "grid_auto_rows": null,
       "grid_column": null,
       "grid_gap": null,
       "grid_row": null,
       "grid_template_areas": null,
       "grid_template_columns": null,
       "grid_template_rows": null,
       "height": null,
       "justify_content": null,
       "justify_items": null,
       "left": null,
       "margin": null,
       "max_height": null,
       "max_width": null,
       "min_height": null,
       "min_width": null,
       "object_fit": null,
       "object_position": null,
       "order": null,
       "overflow": null,
       "overflow_x": null,
       "overflow_y": null,
       "padding": null,
       "right": null,
       "top": null,
       "visibility": null,
       "width": null
      }
     },
     "ee7349f17f614e16a48978927db923c5": {
      "model_module": "@jupyter-widgets/base",
      "model_module_version": "1.2.0",
      "model_name": "LayoutModel",
      "state": {
       "_model_module": "@jupyter-widgets/base",
       "_model_module_version": "1.2.0",
       "_model_name": "LayoutModel",
       "_view_count": null,
       "_view_module": "@jupyter-widgets/base",
       "_view_module_version": "1.2.0",
       "_view_name": "LayoutView",
       "align_content": null,
       "align_items": null,
       "align_self": null,
       "border": null,
       "bottom": null,
       "display": null,
       "flex": null,
       "flex_flow": null,
       "grid_area": null,
       "grid_auto_columns": null,
       "grid_auto_flow": null,
       "grid_auto_rows": null,
       "grid_column": null,
       "grid_gap": null,
       "grid_row": null,
       "grid_template_areas": null,
       "grid_template_columns": null,
       "grid_template_rows": null,
       "height": null,
       "justify_content": null,
       "justify_items": null,
       "left": null,
       "margin": null,
       "max_height": null,
       "max_width": null,
       "min_height": null,
       "min_width": null,
       "object_fit": null,
       "object_position": null,
       "order": null,
       "overflow": null,
       "overflow_x": null,
       "overflow_y": null,
       "padding": null,
       "right": null,
       "top": null,
       "visibility": null,
       "width": null
      }
     },
     "f59f4a391709479fb2d85c7bd990153a": {
      "model_module": "@jupyter-widgets/controls",
      "model_module_version": "1.5.0",
      "model_name": "HTMLModel",
      "state": {
       "_dom_classes": [],
       "_model_module": "@jupyter-widgets/controls",
       "_model_module_version": "1.5.0",
       "_model_name": "HTMLModel",
       "_view_count": null,
       "_view_module": "@jupyter-widgets/controls",
       "_view_module_version": "1.5.0",
       "_view_name": "HTMLView",
       "description": "",
       "description_tooltip": null,
       "layout": "IPY_MODEL_719b3833da2145a7a26762566c70886f",
       "placeholder": "​",
       "style": "IPY_MODEL_142d1e240ae0465ba1476a3bc3e4f3a5",
       "value": " 50/50 [52:40&lt;00:00, 62.88s/it]"
      }
     },
     "fa164db9afc048bdb165159a53246dff": {
      "model_module": "@jupyter-widgets/controls",
      "model_module_version": "1.5.0",
      "model_name": "DescriptionStyleModel",
      "state": {
       "_model_module": "@jupyter-widgets/controls",
       "_model_module_version": "1.5.0",
       "_model_name": "DescriptionStyleModel",
       "_view_count": null,
       "_view_module": "@jupyter-widgets/base",
       "_view_module_version": "1.2.0",
       "_view_name": "StyleView",
       "description_width": ""
      }
     },
     "fd919cc91a2e4bc5aa1b77d5f4126d5c": {
      "model_module": "@jupyter-widgets/controls",
      "model_module_version": "1.5.0",
      "model_name": "FloatProgressModel",
      "state": {
       "_dom_classes": [],
       "_model_module": "@jupyter-widgets/controls",
       "_model_module_version": "1.5.0",
       "_model_name": "FloatProgressModel",
       "_view_count": null,
       "_view_module": "@jupyter-widgets/controls",
       "_view_module_version": "1.5.0",
       "_view_name": "ProgressView",
       "bar_style": "success",
       "description": "",
       "description_tooltip": null,
       "layout": "IPY_MODEL_612364cf04684439be219bd96cb53299",
       "max": 50,
       "min": 0,
       "orientation": "horizontal",
       "style": "IPY_MODEL_839d0da77663408590c078b80ec67495",
       "value": 50
      }
     }
    },
    "version_major": 2,
    "version_minor": 0
   }
  }
 },
 "nbformat": 4,
 "nbformat_minor": 5
}
