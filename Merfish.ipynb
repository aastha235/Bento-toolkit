{
 "cells": [
  {
   "cell_type": "code",
   "execution_count": 3,
   "id": "cabb0182-cf3f-48aa-a38e-04b877c99b33",
   "metadata": {},
   "outputs": [
    {
     "name": "stdout",
     "output_type": "stream",
     "text": [
      "The autoreload extension is already loaded. To reload it, use:\n",
      "  %reload_ext autoreload\n"
     ]
    }
   ],
   "source": [
    "%load_ext autoreload\n",
    "%autoreload 2\n",
    "import bento as bt\n",
    "import spatialdata as sd\n",
    "import matplotlib.pyplot as plt"
   ]
  },
  {
   "cell_type": "code",
   "execution_count": 5,
   "id": "4e3936d1-6235-41a0-940d-63243efd419f",
   "metadata": {},
   "outputs": [
    {
     "ename": "AttributeError",
     "evalue": "module 'spatialdata' has no attribute 'read_zarr'",
     "output_type": "error",
     "traceback": [
      "\u001b[1;31m---------------------------------------------------------------------------\u001b[0m",
      "\u001b[1;31mAttributeError\u001b[0m                            Traceback (most recent call last)",
      "Cell \u001b[1;32mIn[5], line 1\u001b[0m\n\u001b[1;32m----> 1\u001b[0m sdata \u001b[38;5;241m=\u001b[39m \u001b[43msd\u001b[49m\u001b[38;5;241;43m.\u001b[39;49m\u001b[43mread_zarr\u001b[49m(\u001b[38;5;124m\"\u001b[39m\u001b[38;5;124mDesktop/bento-manuscript-pub/bento-manuscript-pub/data/datamerfish/merfish_u2os.zarr/\u001b[39m\u001b[38;5;124m\"\u001b[39m)\n\u001b[0;32m      2\u001b[0m sdata\n",
      "\u001b[1;31mAttributeError\u001b[0m: module 'spatialdata' has no attribute 'read_zarr'"
     ]
    }
   ],
   "source": [
    "sdata = sd.read_zarr(\"Desktop/bento-manuscript-pub/bento-manuscript-pub/data/datamerfish/merfish_u2os.zarr/\")\n",
    "sdata"
   ]
  },
  {
   "cell_type": "code",
   "execution_count": null,
   "id": "aef407aa-17b8-4bf4-b785-c3832712d6ca",
   "metadata": {},
   "outputs": [],
   "source": [
    "sdata = sd.bounding_box_query(\n",
    "    sdata,\n",
    "    axes=[\"x\", \"y\"],\n",
    "    min_coordinate=[0, 0],\n",
    "    max_coordinate=[6000, 6000],\n",
    "    target_coordinate_system=\"global\",\n",
    ")"
   ]
  },
  {
   "cell_type": "code",
   "execution_count": null,
   "id": "0093cd94-520d-47ee-aea8-630cabb3136c",
   "metadata": {},
   "outputs": [],
   "source": [
    "sdata = bt.io.prep(sdata)"
   ]
  },
  {
   "cell_type": "code",
   "execution_count": null,
   "id": "b1bb3095-9e3c-48fa-b671-985c6099e140",
   "metadata": {},
   "outputs": [],
   "source": [
    "plt.figure(figsize=(10, 10))\n",
    "bt.pl.density(sdata)"
   ]
  },
  {
   "cell_type": "code",
   "execution_count": null,
   "id": "e3e6f68b-7714-4e75-b2f7-5298c860a271",
   "metadata": {},
   "outputs": [],
   "source": [
    "sdata = bt.ut.filter_by_gene(sdata, min_count=10)"
   ]
  },
  {
   "cell_type": "code",
   "execution_count": null,
   "id": "e92561a1-f126-48f7-bbcf-7d35bca1ef88",
   "metadata": {},
   "outputs": [],
   "source": [
    "bt.tl.shape_stats(sdata)"
   ]
  },
  {
   "cell_type": "code",
   "execution_count": null,
   "id": "a04a5708-698a-4c37-a5c8-68078b99a052",
   "metadata": {},
   "outputs": [],
   "source": [
    "res = 0.1\n",
    "bt.tl.flux(sdata, method=\"radius\", res=res, recompute=True)"
   ]
  },
  {
   "cell_type": "code",
   "execution_count": null,
   "id": "3f622b17-77cc-46c0-9809-d052951a37fe",
   "metadata": {},
   "outputs": [],
   "source": [
    "fig, ax = plt.subplots(figsize=(12, 12))\n",
    "bt.pl.flux(sdata, res=res, ax=ax)"
   ]
  },
  {
   "cell_type": "code",
   "execution_count": null,
   "id": "c7f24cc8-1a9e-4ccd-ba89-3d4cadb70a65",
   "metadata": {},
   "outputs": [],
   "source": [
    "bt.tl.fluxmap(sdata, res=res, min_count=100, plot_error=True)"
   ]
  },
  {
   "cell_type": "code",
   "execution_count": null,
   "id": "3e7735d4-c0e8-40e2-807d-e6cb6fc7ddb8",
   "metadata": {},
   "outputs": [],
   "source": [
    "fig, ax = plt.subplots(figsize=(12, 12))\n",
    "bt.pl.fluxmap(sdata, palette=bt.colors.bento6, ax=ax)"
   ]
  },
  {
   "cell_type": "code",
   "execution_count": null,
   "id": "6edaaadb-e770-4878-9dba-d967bbfd6719",
   "metadata": {},
   "outputs": [],
   "source": [
    "fluxmap_names = [s for s in sdata.shapes.keys() if s.startswith(\"fluxmap\")]\n",
    "bt.tl.comp(\n",
    "    sdata,\n",
    "    points_key=\"transcripts\",\n",
    "    shape_names=fluxmap_names,\n",
    ")\n",
    "bt.pl.comp(sdata, annotate=5)"
   ]
  },
  {
   "cell_type": "code",
   "execution_count": null,
   "id": "2f6b68e6-8806-4940-b8e0-6ab710d31820",
   "metadata": {},
   "outputs": [],
   "source": [
    "bt.tl.fe_fazal2019(sdata, batch_size=50000)"
   ]
  },
  {
   "cell_type": "code",
   "execution_count": null,
   "id": "5bc4efa0-e16e-40ea-bfae-052a3e064792",
   "metadata": {},
   "outputs": [],
   "source": [
    "plt.figure(figsize=(12, 12))\n",
    "bt.pl.fe(\n",
    "    sdata,\n",
    "    \"flux_Nucleus\",\n",
    "    cmap=\"Reds\",\n",
    "    res=res,\n",
    "    vmin=0,\n",
    ")"
   ]
  },
  {
   "cell_type": "code",
   "execution_count": null,
   "id": "9af3624b-012b-4551-8e1f-1ed07e448953",
   "metadata": {},
   "outputs": [],
   "source": [
    "bt.tl.lp(sdata)"
   ]
  },
  {
   "cell_type": "code",
   "execution_count": null,
   "id": "0d62d039-88d4-4b9c-b9a3-302e9da73de8",
   "metadata": {},
   "outputs": [],
   "source": [
    "bt.pl.lp_dist(sdata)"
   ]
  },
  {
   "cell_type": "code",
   "execution_count": null,
   "id": "48a42866-b0e4-4909-952d-33718002cce6",
   "metadata": {},
   "outputs": [],
   "source": [
    "bt.tl.lp_stats(sdata)"
   ]
  },
  {
   "cell_type": "code",
   "execution_count": null,
   "id": "30ac5165-4ce0-4ff1-814f-f24d546c4138",
   "metadata": {},
   "outputs": [],
   "source": [
    "bt.pl.lp_genes(sdata, sizes=(10, 85), size_norm=(90, 100))\n"
   ]
  },
  {
   "cell_type": "code",
   "execution_count": null,
   "id": "6ec8b17a-d382-41d8-94a5-1b1ef9ab9f04",
   "metadata": {},
   "outputs": [],
   "source": [
    "bt.geo.overlay(\n",
    "    sdata,\n",
    "    s1=\"cell_boundaries\",\n",
    "    s2=\"nucleus_boundaries\",\n",
    "    name=\"cytoplasm\",\n",
    "    how=\"difference\",\n",
    ")"
   ]
  },
  {
   "cell_type": "code",
   "execution_count": null,
   "id": "1409ea3f-e473-4200-9043-b260f311945a",
   "metadata": {},
   "outputs": [],
   "source": [
    "bt.tl.coloc_quotient(sdata, shapes=[\"cytoplasm\", \"nucleus_boundaries\"])\n"
   ]
  },
  {
   "cell_type": "code",
   "execution_count": null,
   "id": "dce478d3-e71d-4408-9f13-c4b27052300a",
   "metadata": {},
   "outputs": [],
   "source": [
    "bt.tl.colocation(sdata, ranks=range(1, 6))"
   ]
  },
  {
   "cell_type": "code",
   "execution_count": null,
   "id": "5b87e6ba-5516-41cd-8efa-6e51caf595c8",
   "metadata": {},
   "outputs": [],
   "source": [
    "bt.pl.colocation(sdata, rank=2)"
   ]
  },
  {
   "cell_type": "code",
   "execution_count": null,
   "id": "a4c46247-8eea-4c97-bab7-95eba6161f42",
   "metadata": {},
   "outputs": [],
   "source": [
    "bt.pl.colocation(sdata, rank=6)"
   ]
  },
  {
   "cell_type": "code",
   "execution_count": null,
   "id": "1b5e7867-adb8-42d6-835a-2c8290a473c4",
   "metadata": {},
   "outputs": [],
   "source": []
  },
  {
   "cell_type": "code",
   "execution_count": null,
   "id": "9f84ce82-0e60-49fb-91de-9a2642273ec5",
   "metadata": {},
   "outputs": [],
   "source": []
  }
 ],
 "metadata": {
  "kernelspec": {
   "display_name": "Python (bento)",
   "language": "python",
   "name": "bento"
  },
  "language_info": {
   "codemirror_mode": {
    "name": "ipython",
    "version": 3
   },
   "file_extension": ".py",
   "mimetype": "text/x-python",
   "name": "python",
   "nbconvert_exporter": "python",
   "pygments_lexer": "ipython3",
   "version": "3.8.20"
  }
 },
 "nbformat": 4,
 "nbformat_minor": 5
}
